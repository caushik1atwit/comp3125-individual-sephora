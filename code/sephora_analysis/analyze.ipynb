{
 "cells": [
  {
   "cell_type": "code",
   "execution_count": 43,
   "metadata": {},
   "outputs": [],
   "source": [
    "import duckdb\n",
    "import pandas as pd\n",
    "import seaborn as sns\n",
    "import matplotlib.pyplot as plt"
   ]
  },
  {
   "cell_type": "code",
   "execution_count": null,
   "metadata": {},
   "outputs": [
    {
     "name": "stdout",
     "output_type": "stream",
     "text": [
      "The sql extension is already loaded. To reload it, use:\n",
      "  %reload_ext sql\n"
     ]
    }
   ],
   "source": [
    "%load_ext sql\n",
    "conn = duckdb.connect('./data/reviews.db')\n",
    "%sql conn --alias duckdb\n"
   ]
  },
  {
   "cell_type": "code",
   "execution_count": 37,
   "metadata": {},
   "outputs": [],
   "source": [
    "%config SqlMagic.displaylimit = 30"
   ]
  },
  {
   "cell_type": "code",
   "execution_count": 8,
   "metadata": {},
   "outputs": [
    {
     "data": {
      "text/html": [
       "<span style=\"None\">Running query in &#x27;duckdb&#x27;</span>"
      ],
      "text/plain": [
       "Running query in 'duckdb'"
      ]
     },
     "metadata": {},
     "output_type": "display_data"
    },
    {
     "data": {
      "text/html": [
       "<table>\n",
       "    <thead>\n",
       "        <tr>\n",
       "            <th>unnest(results)</th>\n",
       "        </tr>\n",
       "    </thead>\n",
       "    <tbody>\n",
       "        <tr>\n",
       "            <td>{'Id': '337610431', 'CID': UUID('d4029aac-9588-5471-9731-038271b945c8'), 'SourceClient': 'sephora', 'LastModeratedTime': '2025-02-14T01:02:06.000+00:00', 'LastModificationTime': '2025-02-25T08:05:02.000+00:00', 'ProductId': '1925163', 'OriginalProductName': 'Pro Filt’r Soft Matte Longwear Liquid Foundation 140', 'ContextDataValuesOrder': ['IncentivizedReview', 'skinTone', 'skinType', 'eyeColor', 'hairColor'], 'AuthorId': '37382674255', 'ContentLocale': 'en_CA', 'IsFeatured': False, 'TotalInappropriateFeedbackCount': 0, 'TotalClientResponseCount': 0, 'TotalCommentCount': 0, 'Photos': [{'Sizes': {'normal': {'Id': 'normal', 'Url': 'https://photos-us.bazaarvoice.com/photo/2/cGhvdG86c2VwaG9yYQ/c9296a02-393b-59d6-8e67-a2fe5048975f'}, 'thumbnail': {'Id': 'thumbnail', 'Url': 'https://photos-us.bazaarvoice.com/photo/2/cGhvdG86c2VwaG9yYQ/2eb7813b-8ffc-571f-af73-44376234bd06'}, 'large': {'Id': 'large', 'Url': 'https://photos-us.bazaarvoice.com/photo/2/cGhvdG86c2VwaG9yYQ/f330bf71-fd8f-59e2-91dc-a81b8f218104'}}, 'Id': '39246058', 'SizesOrder': ['normal', 'thumbnail', 'large'], 'Caption': 'DummyPhotoCaption'}, {'Sizes': {'normal': {'Id': 'normal', 'Url': 'https://photos-us.bazaarvoice.com/photo/2/cGhvdG86c2VwaG9yYQ/e3fea710-cf22-52a1-a6f6-11278d241e52'}, 'thumbnail': {'Id': 'thumbnail', 'Url': 'https://photos-us.bazaarvoice.com/photo/2/cGhvdG86c2VwaG9yYQ/e8a0b21d-d6bf-5055-99b5-0501be0efc8c'}, 'large': {'Id': 'large', 'Url': 'https://photos-us.bazaarvoice.com/photo/2/cGhvdG86c2VwaG9yYQ/592f3749-f973-55d4-9d56-d79222570cfc'}}, 'Id': '39246059', 'SizesOrder': ['normal', 'thumbnail', 'large'], 'Caption': 'DummyPhotoCaption'}], 'Rating': 5, 'IsRatingsOnly': False, 'IsRecommended': True, 'Helpfulness': 1.0, 'TotalFeedbackCount': 1, 'TotalNegativeFeedbackCount': 0, 'TotalPositiveFeedbackCount': 1, 'ModerationStatus': 'APPROVED', 'SubmissionId': 'r18723-en__17393836Lw964ldVnn', 'SubmissionTime': '2025-02-12T18:07:06.000+00:00', 'ReviewText': 'I used this product over the past few months, I am very satisfied with the matte results! Personally I like to apply moisturizer as I have normal skin type for feeling more hydrated. The coverage is pretty good and long-lasting. I recommend this productt specially for oily skin type.', 'Title': 'Even good for bridal makeup', 'UserNickname': 'ManaEpicBeauty', 'ContextDataValues': {'skinType': {'Value': 'normal', 'Id': 'skinType', 'ValueLabel': 'Normal', 'DimensionLabel': 'Skin Type'}, 'IncentivizedReview': {'Value': 'False', 'Id': 'IncentivizedReview', 'ValueLabel': 'No', 'DimensionLabel': 'I received this product as a free sample'}, 'skinTone': {'Value': 'light', 'Id': 'skinTone', 'ValueLabel': 'Light', 'DimensionLabel': 'Skin Tone'}, 'hairColor': {'Value': 'blonde', 'Id': 'hairColor', 'ValueLabel': 'blonde', 'DimensionLabel': 'Hair Color'}, 'eyeColor': {'Value': 'brown', 'Id': 'eyeColor', 'ValueLabel': 'Brown', 'DimensionLabel': 'Eye Color'}, 'StaffContext': None, 'age': None}, 'AdditionalFields': {'sociallockup': {'Value': 'avatar=https://community.sephora.com/t5/image/serverpage/image-id/2632225i1B6497028BAE4677/image-dimensions/172x172?v=v2|biBadgeUrl=/html/rank_icons/birole_insider.png|engagementBadgeUrl=/html/rank_icons/window_shopper_1.png|biTier=bi', 'Id': 'sociallockup', 'Label': 'sociallockup'}}, 'AdditionalFieldsOrder': ['sociallockup'], 'BadgesOrder': [], 'SecondaryRatings': {}, 'TagDimensionsOrder': [], 'TagDimensions': {}, 'Cons': None, 'IsSyndicated': False, 'RatingRange': 5, 'CampaignId': None, 'UserLocation': None, 'Badges': {}, 'ProductRecommendationIds': [], 'InappropriateFeedbackList': [], 'SecondaryRatingsOrder': [], 'ClientResponses': [], 'Videos': [], 'Pros': None, 'CommentIds': []}</td>\n",
       "        </tr>\n",
       "    </tbody>\n",
       "</table>"
      ],
      "text/plain": [
       "+--------------------------------------------------------------------------------------------------------------------------------------------------------------------------------------------------------------------------------------------------------------------------------------------------------------------------------------------------------------------------------------------------------------------------------------------------------------------------------------------------------------------------------------------------------------------------------------------------------------------------------------------------------------------------------------------------------------------------------------------------------------------------------------------------------------------------------------------------------------------------------------------------------------------------------------------------------------------------------------------------------------------------------------------------------------------------------------------------------------------------------------------------------------------------------------------------------------------------------------------------------------------------------------------------------------------------------------------------------------------------------------------------------------------------------------------------------------------------------------------------------------------------------------------------------------------------------------------------------------------------------------------------------------------------------------------------------------------------------------------------------------------------------------------------------------------------------------------------------------------------------------------------------------------------------------------------------------------------------------------------------------------------------------------------------------------------------------------------------------------------------------------------------------------------------------------------------------------------------------------------------------------------------------------------------------------------------------------------------------------------------------------------------------------------------------------------------------------------------------------------------------------------------------------------------------------------------------------------------------------------------------------------------------------------------------------------------------------------------------------------------------------------------------------------------------------------------------------------------------------------------------------------------------------------------------------------------------------------------------------------------------------------------------------------------------------------------------------------------------------------------------------------------------------------------------------------------------------------------------------------------------------------------------------------------------------------------------------------------------------------------------------------------------------------------------------------------------------------------------------------------------------------------------------------------------------------------------------------------------------------------------------------------------------------------------------------------------------------------------------------------------------------------------------------------------------------------------------+\n",
       "|                                                                                                                                                                                                                                                                                                                                                                                                                                                                                                                                                                                                                                                                                                                                                                                                                                                                                                                                                                                                                                                                                                                                                                                                                                                                                                                                                                                                                                                                                                                                                                                                                                                                                                                                                                                                                                                                                                              unnest(results)                                                                                                                                                                                                                                                                                                                                                                                                                                                                                                                                                                                                                                                                                                                                                                                                                                                                                                                                                                                                                                                                                                                                                                                                                                                                                                                                                                                                                                                                                                                                                                                                                                                                                                                                                                                                                                                                                                               |\n",
       "+--------------------------------------------------------------------------------------------------------------------------------------------------------------------------------------------------------------------------------------------------------------------------------------------------------------------------------------------------------------------------------------------------------------------------------------------------------------------------------------------------------------------------------------------------------------------------------------------------------------------------------------------------------------------------------------------------------------------------------------------------------------------------------------------------------------------------------------------------------------------------------------------------------------------------------------------------------------------------------------------------------------------------------------------------------------------------------------------------------------------------------------------------------------------------------------------------------------------------------------------------------------------------------------------------------------------------------------------------------------------------------------------------------------------------------------------------------------------------------------------------------------------------------------------------------------------------------------------------------------------------------------------------------------------------------------------------------------------------------------------------------------------------------------------------------------------------------------------------------------------------------------------------------------------------------------------------------------------------------------------------------------------------------------------------------------------------------------------------------------------------------------------------------------------------------------------------------------------------------------------------------------------------------------------------------------------------------------------------------------------------------------------------------------------------------------------------------------------------------------------------------------------------------------------------------------------------------------------------------------------------------------------------------------------------------------------------------------------------------------------------------------------------------------------------------------------------------------------------------------------------------------------------------------------------------------------------------------------------------------------------------------------------------------------------------------------------------------------------------------------------------------------------------------------------------------------------------------------------------------------------------------------------------------------------------------------------------------------------------------------------------------------------------------------------------------------------------------------------------------------------------------------------------------------------------------------------------------------------------------------------------------------------------------------------------------------------------------------------------------------------------------------------------------------------------------------------------------------+\n",
       "| {'Id': '337610431', 'CID': UUID('d4029aac-9588-5471-9731-038271b945c8'), 'SourceClient': 'sephora', 'LastModeratedTime': '2025-02-14T01:02:06.000+00:00', 'LastModificationTime': '2025-02-25T08:05:02.000+00:00', 'ProductId': '1925163', 'OriginalProductName': 'Pro Filt’r Soft Matte Longwear Liquid Foundation 140', 'ContextDataValuesOrder': ['IncentivizedReview', 'skinTone', 'skinType', 'eyeColor', 'hairColor'], 'AuthorId': '37382674255', 'ContentLocale': 'en_CA', 'IsFeatured': False, 'TotalInappropriateFeedbackCount': 0, 'TotalClientResponseCount': 0, 'TotalCommentCount': 0, 'Photos': [{'Sizes': {'normal': {'Id': 'normal', 'Url': 'https://photos-us.bazaarvoice.com/photo/2/cGhvdG86c2VwaG9yYQ/c9296a02-393b-59d6-8e67-a2fe5048975f'}, 'thumbnail': {'Id': 'thumbnail', 'Url': 'https://photos-us.bazaarvoice.com/photo/2/cGhvdG86c2VwaG9yYQ/2eb7813b-8ffc-571f-af73-44376234bd06'}, 'large': {'Id': 'large', 'Url': 'https://photos-us.bazaarvoice.com/photo/2/cGhvdG86c2VwaG9yYQ/f330bf71-fd8f-59e2-91dc-a81b8f218104'}}, 'Id': '39246058', 'SizesOrder': ['normal', 'thumbnail', 'large'], 'Caption': 'DummyPhotoCaption'}, {'Sizes': {'normal': {'Id': 'normal', 'Url': 'https://photos-us.bazaarvoice.com/photo/2/cGhvdG86c2VwaG9yYQ/e3fea710-cf22-52a1-a6f6-11278d241e52'}, 'thumbnail': {'Id': 'thumbnail', 'Url': 'https://photos-us.bazaarvoice.com/photo/2/cGhvdG86c2VwaG9yYQ/e8a0b21d-d6bf-5055-99b5-0501be0efc8c'}, 'large': {'Id': 'large', 'Url': 'https://photos-us.bazaarvoice.com/photo/2/cGhvdG86c2VwaG9yYQ/592f3749-f973-55d4-9d56-d79222570cfc'}}, 'Id': '39246059', 'SizesOrder': ['normal', 'thumbnail', 'large'], 'Caption': 'DummyPhotoCaption'}], 'Rating': 5, 'IsRatingsOnly': False, 'IsRecommended': True, 'Helpfulness': 1.0, 'TotalFeedbackCount': 1, 'TotalNegativeFeedbackCount': 0, 'TotalPositiveFeedbackCount': 1, 'ModerationStatus': 'APPROVED', 'SubmissionId': 'r18723-en__17393836Lw964ldVnn', 'SubmissionTime': '2025-02-12T18:07:06.000+00:00', 'ReviewText': 'I used this product over the past few months, I am very satisfied with the matte results! Personally I like to apply moisturizer as I have normal skin type for feeling more hydrated. The coverage is pretty good and long-lasting. I recommend this productt specially for oily skin type.', 'Title': 'Even good for bridal makeup', 'UserNickname': 'ManaEpicBeauty', 'ContextDataValues': {'skinType': {'Value': 'normal', 'Id': 'skinType', 'ValueLabel': 'Normal', 'DimensionLabel': 'Skin Type'}, 'IncentivizedReview': {'Value': 'False', 'Id': 'IncentivizedReview', 'ValueLabel': 'No', 'DimensionLabel': 'I received this product as a free sample'}, 'skinTone': {'Value': 'light', 'Id': 'skinTone', 'ValueLabel': 'Light', 'DimensionLabel': 'Skin Tone'}, 'hairColor': {'Value': 'blonde', 'Id': 'hairColor', 'ValueLabel': 'blonde', 'DimensionLabel': 'Hair Color'}, 'eyeColor': {'Value': 'brown', 'Id': 'eyeColor', 'ValueLabel': 'Brown', 'DimensionLabel': 'Eye Color'}, 'StaffContext': None, 'age': None}, 'AdditionalFields': {'sociallockup': {'Value': 'avatar=https://community.sephora.com/t5/image/serverpage/image-id/2632225i1B6497028BAE4677/image-dimensions/172x172?v=v2|biBadgeUrl=/html/rank_icons/birole_insider.png|engagementBadgeUrl=/html/rank_icons/window_shopper_1.png|biTier=bi', 'Id': 'sociallockup', 'Label': 'sociallockup'}}, 'AdditionalFieldsOrder': ['sociallockup'], 'BadgesOrder': [], 'SecondaryRatings': {}, 'TagDimensionsOrder': [], 'TagDimensions': {}, 'Cons': None, 'IsSyndicated': False, 'RatingRange': 5, 'CampaignId': None, 'UserLocation': None, 'Badges': {}, 'ProductRecommendationIds': [], 'InappropriateFeedbackList': [], 'SecondaryRatingsOrder': [], 'ClientResponses': [], 'Videos': [], 'Pros': None, 'CommentIds': []} |\n",
       "+--------------------------------------------------------------------------------------------------------------------------------------------------------------------------------------------------------------------------------------------------------------------------------------------------------------------------------------------------------------------------------------------------------------------------------------------------------------------------------------------------------------------------------------------------------------------------------------------------------------------------------------------------------------------------------------------------------------------------------------------------------------------------------------------------------------------------------------------------------------------------------------------------------------------------------------------------------------------------------------------------------------------------------------------------------------------------------------------------------------------------------------------------------------------------------------------------------------------------------------------------------------------------------------------------------------------------------------------------------------------------------------------------------------------------------------------------------------------------------------------------------------------------------------------------------------------------------------------------------------------------------------------------------------------------------------------------------------------------------------------------------------------------------------------------------------------------------------------------------------------------------------------------------------------------------------------------------------------------------------------------------------------------------------------------------------------------------------------------------------------------------------------------------------------------------------------------------------------------------------------------------------------------------------------------------------------------------------------------------------------------------------------------------------------------------------------------------------------------------------------------------------------------------------------------------------------------------------------------------------------------------------------------------------------------------------------------------------------------------------------------------------------------------------------------------------------------------------------------------------------------------------------------------------------------------------------------------------------------------------------------------------------------------------------------------------------------------------------------------------------------------------------------------------------------------------------------------------------------------------------------------------------------------------------------------------------------------------------------------------------------------------------------------------------------------------------------------------------------------------------------------------------------------------------------------------------------------------------------------------------------------------------------------------------------------------------------------------------------------------------------------------------------------------------------------------------------------------------+"
      ]
     },
     "execution_count": 8,
     "metadata": {},
     "output_type": "execute_result"
    }
   ],
   "source": [
    "%sql  select   unnest(results)  from './data/p87985432_reviews.json.gz' limit 1; "
   ]
  },
  {
   "cell_type": "code",
   "execution_count": 16,
   "metadata": {},
   "outputs": [
    {
     "data": {
      "text/html": [
       "<span style=\"None\">Running query in &#x27;duckdb&#x27;</span>"
      ],
      "text/plain": [
       "Running query in 'duckdb'"
      ]
     },
     "metadata": {},
     "output_type": "display_data"
    },
    {
     "data": {
      "text/html": [
       "<table>\n",
       "    <thead>\n",
       "        <tr>\n",
       "            <th>Count</th>\n",
       "        </tr>\n",
       "    </thead>\n",
       "    <tbody>\n",
       "        <tr>\n",
       "            <td>17467</td>\n",
       "        </tr>\n",
       "    </tbody>\n",
       "</table>"
      ],
      "text/plain": [
       "+-------+\n",
       "| Count |\n",
       "+-------+\n",
       "| 17467 |\n",
       "+-------+"
      ]
     },
     "execution_count": 16,
     "metadata": {},
     "output_type": "execute_result"
    }
   ],
   "source": [
    "%sql create or replace table reviews_raw as select unnest(results) as reviews  from './data/p87985432_reviews.json.gz'"
   ]
  },
  {
   "cell_type": "code",
   "execution_count": 24,
   "metadata": {},
   "outputs": [
    {
     "data": {
      "text/html": [
       "<span style=\"None\">Running query in &#x27;duckdb&#x27;</span>"
      ],
      "text/plain": [
       "Running query in 'duckdb'"
      ]
     },
     "metadata": {},
     "output_type": "display_data"
    },
    {
     "data": {
      "text/html": [
       "<table>\n",
       "    <thead>\n",
       "        <tr>\n",
       "            <th>Id</th>\n",
       "            <th>CID</th>\n",
       "            <th>SourceClient</th>\n",
       "            <th>LastModeratedTime</th>\n",
       "            <th>LastModificationTime</th>\n",
       "            <th>ProductId</th>\n",
       "            <th>OriginalProductName</th>\n",
       "            <th>ContextDataValuesOrder</th>\n",
       "            <th>AuthorId</th>\n",
       "            <th>ContentLocale</th>\n",
       "            <th>IsFeatured</th>\n",
       "            <th>TotalInappropriateFeedbackCount</th>\n",
       "            <th>TotalClientResponseCount</th>\n",
       "            <th>TotalCommentCount</th>\n",
       "            <th>Photos</th>\n",
       "            <th>Rating</th>\n",
       "            <th>IsRatingsOnly</th>\n",
       "            <th>IsRecommended</th>\n",
       "            <th>Helpfulness</th>\n",
       "            <th>TotalFeedbackCount</th>\n",
       "            <th>TotalNegativeFeedbackCount</th>\n",
       "            <th>TotalPositiveFeedbackCount</th>\n",
       "            <th>ModerationStatus</th>\n",
       "            <th>SubmissionId</th>\n",
       "            <th>SubmissionTime</th>\n",
       "            <th>ReviewText</th>\n",
       "            <th>Title</th>\n",
       "            <th>UserNickname</th>\n",
       "            <th>ContextDataValues</th>\n",
       "            <th>AdditionalFields</th>\n",
       "            <th>AdditionalFieldsOrder</th>\n",
       "            <th>BadgesOrder</th>\n",
       "            <th>SecondaryRatings</th>\n",
       "            <th>TagDimensionsOrder</th>\n",
       "            <th>TagDimensions</th>\n",
       "            <th>Cons</th>\n",
       "            <th>IsSyndicated</th>\n",
       "            <th>RatingRange</th>\n",
       "            <th>CampaignId</th>\n",
       "            <th>UserLocation</th>\n",
       "            <th>Badges</th>\n",
       "            <th>ProductRecommendationIds</th>\n",
       "            <th>InappropriateFeedbackList</th>\n",
       "            <th>SecondaryRatingsOrder</th>\n",
       "            <th>ClientResponses</th>\n",
       "            <th>Videos</th>\n",
       "            <th>Pros</th>\n",
       "            <th>CommentIds</th>\n",
       "        </tr>\n",
       "    </thead>\n",
       "    <tbody>\n",
       "        <tr>\n",
       "            <td>337610431</td>\n",
       "            <td>d4029aac-9588-5471-9731-038271b945c8</td>\n",
       "            <td>sephora</td>\n",
       "            <td>2025-02-14T01:02:06.000+00:00</td>\n",
       "            <td>2025-02-25T08:05:02.000+00:00</td>\n",
       "            <td>1925163</td>\n",
       "            <td>Pro Filt’r Soft Matte Longwear Liquid Foundation 140</td>\n",
       "            <td>['IncentivizedReview', 'skinTone', 'skinType', 'eyeColor', 'hairColor']</td>\n",
       "            <td>37382674255</td>\n",
       "            <td>en_CA</td>\n",
       "            <td>False</td>\n",
       "            <td>0</td>\n",
       "            <td>0</td>\n",
       "            <td>0</td>\n",
       "            <td>[{'Sizes': {'normal': {'Id': 'normal', 'Url': 'https://photos-us.bazaarvoice.com/photo/2/cGhvdG86c2VwaG9yYQ/c9296a02-393b-59d6-8e67-a2fe5048975f'}, 'thumbnail': {'Id': 'thumbnail', 'Url': 'https://photos-us.bazaarvoice.com/photo/2/cGhvdG86c2VwaG9yYQ/2eb7813b-8ffc-571f-af73-44376234bd06'}, 'large': {'Id': 'large', 'Url': 'https://photos-us.bazaarvoice.com/photo/2/cGhvdG86c2VwaG9yYQ/f330bf71-fd8f-59e2-91dc-a81b8f218104'}}, 'Id': '39246058', 'SizesOrder': ['normal', 'thumbnail', 'large'], 'Caption': 'DummyPhotoCaption'}, {'Sizes': {'normal': {'Id': 'normal', 'Url': 'https://photos-us.bazaarvoice.com/photo/2/cGhvdG86c2VwaG9yYQ/e3fea710-cf22-52a1-a6f6-11278d241e52'}, 'thumbnail': {'Id': 'thumbnail', 'Url': 'https://photos-us.bazaarvoice.com/photo/2/cGhvdG86c2VwaG9yYQ/e8a0b21d-d6bf-5055-99b5-0501be0efc8c'}, 'large': {'Id': 'large', 'Url': 'https://photos-us.bazaarvoice.com/photo/2/cGhvdG86c2VwaG9yYQ/592f3749-f973-55d4-9d56-d79222570cfc'}}, 'Id': '39246059', 'SizesOrder': ['normal', 'thumbnail', 'large'], 'Caption': 'DummyPhotoCaption'}]</td>\n",
       "            <td>5</td>\n",
       "            <td>False</td>\n",
       "            <td>True</td>\n",
       "            <td>1.0</td>\n",
       "            <td>1</td>\n",
       "            <td>0</td>\n",
       "            <td>1</td>\n",
       "            <td>APPROVED</td>\n",
       "            <td>r18723-en__17393836Lw964ldVnn</td>\n",
       "            <td>2025-02-12T18:07:06.000+00:00</td>\n",
       "            <td>I used this product over the past few months, I am very satisfied with the matte results! Personally I like to apply moisturizer as I have normal skin type for feeling more hydrated. The coverage is pretty good and long-lasting. I recommend this productt specially for oily skin type.</td>\n",
       "            <td>Even good for bridal makeup</td>\n",
       "            <td>ManaEpicBeauty</td>\n",
       "            <td>{'skinType': {'Value': 'normal', 'Id': 'skinType', 'ValueLabel': 'Normal', 'DimensionLabel': 'Skin Type'}, 'IncentivizedReview': {'Value': 'False', 'Id': 'IncentivizedReview', 'ValueLabel': 'No', 'DimensionLabel': 'I received this product as a free sample'}, 'skinTone': {'Value': 'light', 'Id': 'skinTone', 'ValueLabel': 'Light', 'DimensionLabel': 'Skin Tone'}, 'hairColor': {'Value': 'blonde', 'Id': 'hairColor', 'ValueLabel': 'blonde', 'DimensionLabel': 'Hair Color'}, 'eyeColor': {'Value': 'brown', 'Id': 'eyeColor', 'ValueLabel': 'Brown', 'DimensionLabel': 'Eye Color'}, 'StaffContext': None, 'age': None}</td>\n",
       "            <td>{'sociallockup': {'Value': 'avatar=https://community.sephora.com/t5/image/serverpage/image-id/2632225i1B6497028BAE4677/image-dimensions/172x172?v=v2|biBadgeUrl=/html/rank_icons/birole_insider.png|engagementBadgeUrl=/html/rank_icons/window_shopper_1.png|biTier=bi', 'Id': 'sociallockup', 'Label': 'sociallockup'}}</td>\n",
       "            <td>['sociallockup']</td>\n",
       "            <td>[]</td>\n",
       "            <td>{}</td>\n",
       "            <td>[]</td>\n",
       "            <td>{}</td>\n",
       "            <td>None</td>\n",
       "            <td>False</td>\n",
       "            <td>5</td>\n",
       "            <td>None</td>\n",
       "            <td>None</td>\n",
       "            <td>{}</td>\n",
       "            <td>[]</td>\n",
       "            <td>[]</td>\n",
       "            <td>[]</td>\n",
       "            <td>[]</td>\n",
       "            <td>[]</td>\n",
       "            <td>None</td>\n",
       "            <td>[]</td>\n",
       "        </tr>\n",
       "    </tbody>\n",
       "</table>"
      ],
      "text/plain": [
       "+-----------+--------------------------------------+--------------+-------------------------------+-------------------------------+-----------+------------------------------------------------------+-------------------------------------------------------------------------+-------------+---------------+------------+---------------------------------+--------------------------+-------------------+----------------------------------------------------------------------------------------------------------------------------------------------------------------------------------------------------------------------------------------------------------------------------------------------------------------------------------------------------------------------------------------------------------------------------------------------------------------------------------------------------------------------------------------------------------------------------------------------------------------------------------------------------------------------------------------------------------------------------------------------------------------------------------------------------------------------------------------------------------------------------------------------------------------------------------------------------------------------------------------------------------------------------------------------------------------------------------------+--------+---------------+---------------+-------------+--------------------+----------------------------+----------------------------+------------------+-------------------------------+-------------------------------+----------------------------------------------------------------------------------------------------------------------------------------------------------------------------------------------------------------------------------------------------------------------------------------------+-----------------------------+----------------+------------------------------------------------------------------------------------------------------------------------------------------------------------------------------------------------------------------------------------------------------------------------------------------------------------------------------------------------------------------------------------------------------------------------------------------------------------------------------------------------------------------------------------------------------------------------------------------------------------------------------------+--------------------------------------------------------------------------------------------------------------------------------------------------------------------------------------------------------------------------------------------------------------------------------------------------------------------------+-----------------------+-------------+------------------+--------------------+---------------+------+--------------+-------------+------------+--------------+--------+--------------------------+---------------------------+-----------------------+-----------------+--------+------+------------+\n",
       "|     Id    |                 CID                  | SourceClient |       LastModeratedTime       |      LastModificationTime     | ProductId |                 OriginalProductName                  |                          ContextDataValuesOrder                         |   AuthorId  | ContentLocale | IsFeatured | TotalInappropriateFeedbackCount | TotalClientResponseCount | TotalCommentCount |                                                                                                                                                                                                                                                                                                                                                                                                                                                                                                                                         Photos                                                                                                                                                                                                                                                                                                                                                                                                                                                                                                                                         | Rating | IsRatingsOnly | IsRecommended | Helpfulness | TotalFeedbackCount | TotalNegativeFeedbackCount | TotalPositiveFeedbackCount | ModerationStatus |          SubmissionId         |         SubmissionTime        |                                                                                                                                          ReviewText                                                                                                                                          |            Title            |  UserNickname  |                                                                                                                                                                                                                                                                                                         ContextDataValues                                                                                                                                                                                                                                                                                                          |                                                                                                                                                     AdditionalFields                                                                                                                                                     | AdditionalFieldsOrder | BadgesOrder | SecondaryRatings | TagDimensionsOrder | TagDimensions | Cons | IsSyndicated | RatingRange | CampaignId | UserLocation | Badges | ProductRecommendationIds | InappropriateFeedbackList | SecondaryRatingsOrder | ClientResponses | Videos | Pros | CommentIds |\n",
       "+-----------+--------------------------------------+--------------+-------------------------------+-------------------------------+-----------+------------------------------------------------------+-------------------------------------------------------------------------+-------------+---------------+------------+---------------------------------+--------------------------+-------------------+----------------------------------------------------------------------------------------------------------------------------------------------------------------------------------------------------------------------------------------------------------------------------------------------------------------------------------------------------------------------------------------------------------------------------------------------------------------------------------------------------------------------------------------------------------------------------------------------------------------------------------------------------------------------------------------------------------------------------------------------------------------------------------------------------------------------------------------------------------------------------------------------------------------------------------------------------------------------------------------------------------------------------------------------------------------------------------------+--------+---------------+---------------+-------------+--------------------+----------------------------+----------------------------+------------------+-------------------------------+-------------------------------+----------------------------------------------------------------------------------------------------------------------------------------------------------------------------------------------------------------------------------------------------------------------------------------------+-----------------------------+----------------+------------------------------------------------------------------------------------------------------------------------------------------------------------------------------------------------------------------------------------------------------------------------------------------------------------------------------------------------------------------------------------------------------------------------------------------------------------------------------------------------------------------------------------------------------------------------------------------------------------------------------------+--------------------------------------------------------------------------------------------------------------------------------------------------------------------------------------------------------------------------------------------------------------------------------------------------------------------------+-----------------------+-------------+------------------+--------------------+---------------+------+--------------+-------------+------------+--------------+--------+--------------------------+---------------------------+-----------------------+-----------------+--------+------+------------+\n",
       "| 337610431 | d4029aac-9588-5471-9731-038271b945c8 |   sephora    | 2025-02-14T01:02:06.000+00:00 | 2025-02-25T08:05:02.000+00:00 |  1925163  | Pro Filt’r Soft Matte Longwear Liquid Foundation 140 | ['IncentivizedReview', 'skinTone', 'skinType', 'eyeColor', 'hairColor'] | 37382674255 |     en_CA     |   False    |                0                |            0             |         0         | [{'Sizes': {'normal': {'Id': 'normal', 'Url': 'https://photos-us.bazaarvoice.com/photo/2/cGhvdG86c2VwaG9yYQ/c9296a02-393b-59d6-8e67-a2fe5048975f'}, 'thumbnail': {'Id': 'thumbnail', 'Url': 'https://photos-us.bazaarvoice.com/photo/2/cGhvdG86c2VwaG9yYQ/2eb7813b-8ffc-571f-af73-44376234bd06'}, 'large': {'Id': 'large', 'Url': 'https://photos-us.bazaarvoice.com/photo/2/cGhvdG86c2VwaG9yYQ/f330bf71-fd8f-59e2-91dc-a81b8f218104'}}, 'Id': '39246058', 'SizesOrder': ['normal', 'thumbnail', 'large'], 'Caption': 'DummyPhotoCaption'}, {'Sizes': {'normal': {'Id': 'normal', 'Url': 'https://photos-us.bazaarvoice.com/photo/2/cGhvdG86c2VwaG9yYQ/e3fea710-cf22-52a1-a6f6-11278d241e52'}, 'thumbnail': {'Id': 'thumbnail', 'Url': 'https://photos-us.bazaarvoice.com/photo/2/cGhvdG86c2VwaG9yYQ/e8a0b21d-d6bf-5055-99b5-0501be0efc8c'}, 'large': {'Id': 'large', 'Url': 'https://photos-us.bazaarvoice.com/photo/2/cGhvdG86c2VwaG9yYQ/592f3749-f973-55d4-9d56-d79222570cfc'}}, 'Id': '39246059', 'SizesOrder': ['normal', 'thumbnail', 'large'], 'Caption': 'DummyPhotoCaption'}] |   5    |     False     |      True     |     1.0     |         1          |             0              |             1              |     APPROVED     | r18723-en__17393836Lw964ldVnn | 2025-02-12T18:07:06.000+00:00 | I used this product over the past few months, I am very satisfied with the matte results! Personally I like to apply moisturizer as I have normal skin type for feeling more hydrated. The coverage is pretty good and long-lasting. I recommend this productt specially for oily skin type. | Even good for bridal makeup | ManaEpicBeauty | {'skinType': {'Value': 'normal', 'Id': 'skinType', 'ValueLabel': 'Normal', 'DimensionLabel': 'Skin Type'}, 'IncentivizedReview': {'Value': 'False', 'Id': 'IncentivizedReview', 'ValueLabel': 'No', 'DimensionLabel': 'I received this product as a free sample'}, 'skinTone': {'Value': 'light', 'Id': 'skinTone', 'ValueLabel': 'Light', 'DimensionLabel': 'Skin Tone'}, 'hairColor': {'Value': 'blonde', 'Id': 'hairColor', 'ValueLabel': 'blonde', 'DimensionLabel': 'Hair Color'}, 'eyeColor': {'Value': 'brown', 'Id': 'eyeColor', 'ValueLabel': 'Brown', 'DimensionLabel': 'Eye Color'}, 'StaffContext': None, 'age': None} | {'sociallockup': {'Value': 'avatar=https://community.sephora.com/t5/image/serverpage/image-id/2632225i1B6497028BAE4677/image-dimensions/172x172?v=v2|biBadgeUrl=/html/rank_icons/birole_insider.png|engagementBadgeUrl=/html/rank_icons/window_shopper_1.png|biTier=bi', 'Id': 'sociallockup', 'Label': 'sociallockup'}} |    ['sociallockup']   |      []     |        {}        |         []         |       {}      | None |    False     |      5      |    None    |     None     |   {}   |            []            |             []            |           []          |        []       |   []   | None |     []     |\n",
       "+-----------+--------------------------------------+--------------+-------------------------------+-------------------------------+-----------+------------------------------------------------------+-------------------------------------------------------------------------+-------------+---------------+------------+---------------------------------+--------------------------+-------------------+----------------------------------------------------------------------------------------------------------------------------------------------------------------------------------------------------------------------------------------------------------------------------------------------------------------------------------------------------------------------------------------------------------------------------------------------------------------------------------------------------------------------------------------------------------------------------------------------------------------------------------------------------------------------------------------------------------------------------------------------------------------------------------------------------------------------------------------------------------------------------------------------------------------------------------------------------------------------------------------------------------------------------------------------------------------------------------------+--------+---------------+---------------+-------------+--------------------+----------------------------+----------------------------+------------------+-------------------------------+-------------------------------+----------------------------------------------------------------------------------------------------------------------------------------------------------------------------------------------------------------------------------------------------------------------------------------------+-----------------------------+----------------+------------------------------------------------------------------------------------------------------------------------------------------------------------------------------------------------------------------------------------------------------------------------------------------------------------------------------------------------------------------------------------------------------------------------------------------------------------------------------------------------------------------------------------------------------------------------------------------------------------------------------------+--------------------------------------------------------------------------------------------------------------------------------------------------------------------------------------------------------------------------------------------------------------------------------------------------------------------------+-----------------------+-------------+------------------+--------------------+---------------+------+--------------+-------------+------------+--------------+--------+--------------------------+---------------------------+-----------------------+-----------------+--------+------+------------+"
      ]
     },
     "execution_count": 24,
     "metadata": {},
     "output_type": "execute_result"
    }
   ],
   "source": [
    "%sql select unnest(reviews)  from reviews_raw limit 1"
   ]
  },
  {
   "cell_type": "code",
   "execution_count": 34,
   "metadata": {},
   "outputs": [
    {
     "data": {
      "text/html": [
       "<span style=\"None\">Running query in &#x27;duckdb&#x27;</span>"
      ],
      "text/plain": [
       "Running query in 'duckdb'"
      ]
     },
     "metadata": {},
     "output_type": "display_data"
    },
    {
     "data": {
      "text/html": [
       "<table>\n",
       "    <thead>\n",
       "        <tr>\n",
       "            <th>Count</th>\n",
       "        </tr>\n",
       "    </thead>\n",
       "    <tbody>\n",
       "        <tr>\n",
       "            <td>17467</td>\n",
       "        </tr>\n",
       "    </tbody>\n",
       "</table>"
      ],
      "text/plain": [
       "+-------+\n",
       "| Count |\n",
       "+-------+\n",
       "| 17467 |\n",
       "+-------+"
      ]
     },
     "execution_count": 34,
     "metadata": {},
     "output_type": "execute_result"
    }
   ],
   "source": [
    "%sql create or replace table reviews_clean as select reviews.contextdatavaluesorder,reviews.ContextDataValues, reviews.isfeatured, reviews.rating, reviews.isratingsonly, reviews.isrecommended, reviews.helpfulness, reviews.TotalFeedbackCount, reviews.TotalNegativeFeedbackCount, reviews.TotalPositiveFeedbackCount,reviews.reviewtext,reviews.title,reviews.ContextDataValues,reviews.ratingrange  from reviews_raw "
   ]
  },
  {
   "cell_type": "code",
   "execution_count": 38,
   "metadata": {},
   "outputs": [
    {
     "data": {
      "text/html": [
       "<span style=\"None\">Running query in &#x27;duckdb&#x27;</span>"
      ],
      "text/plain": [
       "Running query in 'duckdb'"
      ]
     },
     "metadata": {},
     "output_type": "display_data"
    },
    {
     "data": {
      "text/html": [
       "<table>\n",
       "    <thead>\n",
       "        <tr>\n",
       "            <th>column_name</th>\n",
       "            <th>column_type</th>\n",
       "            <th>null</th>\n",
       "            <th>key</th>\n",
       "            <th>default</th>\n",
       "            <th>extra</th>\n",
       "        </tr>\n",
       "    </thead>\n",
       "    <tbody>\n",
       "        <tr>\n",
       "            <td>contextdatavaluesorder</td>\n",
       "            <td>VARCHAR[]</td>\n",
       "            <td>YES</td>\n",
       "            <td>None</td>\n",
       "            <td>None</td>\n",
       "            <td>None</td>\n",
       "        </tr>\n",
       "        <tr>\n",
       "            <td>ContextDataValues</td>\n",
       "            <td>STRUCT(skinType STRUCT(\"Value\" VARCHAR, Id VARCHAR, ValueLabel VARCHAR, DimensionLabel VARCHAR), IncentivizedReview STRUCT(\"Value\" VARCHAR, Id VARCHAR, ValueLabel VARCHAR, DimensionLabel VARCHAR), skinTone STRUCT(\"Value\" VARCHAR, Id VARCHAR, ValueLabel VARCHAR, DimensionLabel VARCHAR), hairColor STRUCT(\"Value\" VARCHAR, Id VARCHAR, ValueLabel VARCHAR, DimensionLabel VARCHAR), eyeColor STRUCT(\"Value\" VARCHAR, Id VARCHAR, ValueLabel VARCHAR, DimensionLabel VARCHAR), StaffContext STRUCT(\"Value\" VARCHAR, Id VARCHAR, ValueLabel VARCHAR, DimensionLabel VARCHAR), age STRUCT(\"Value\" VARCHAR, Id VARCHAR, ValueLabel VARCHAR, DimensionLabel VARCHAR))</td>\n",
       "            <td>YES</td>\n",
       "            <td>None</td>\n",
       "            <td>None</td>\n",
       "            <td>None</td>\n",
       "        </tr>\n",
       "        <tr>\n",
       "            <td>isfeatured</td>\n",
       "            <td>BOOLEAN</td>\n",
       "            <td>YES</td>\n",
       "            <td>None</td>\n",
       "            <td>None</td>\n",
       "            <td>None</td>\n",
       "        </tr>\n",
       "        <tr>\n",
       "            <td>rating</td>\n",
       "            <td>BIGINT</td>\n",
       "            <td>YES</td>\n",
       "            <td>None</td>\n",
       "            <td>None</td>\n",
       "            <td>None</td>\n",
       "        </tr>\n",
       "        <tr>\n",
       "            <td>isratingsonly</td>\n",
       "            <td>BOOLEAN</td>\n",
       "            <td>YES</td>\n",
       "            <td>None</td>\n",
       "            <td>None</td>\n",
       "            <td>None</td>\n",
       "        </tr>\n",
       "        <tr>\n",
       "            <td>isrecommended</td>\n",
       "            <td>BOOLEAN</td>\n",
       "            <td>YES</td>\n",
       "            <td>None</td>\n",
       "            <td>None</td>\n",
       "            <td>None</td>\n",
       "        </tr>\n",
       "        <tr>\n",
       "            <td>helpfulness</td>\n",
       "            <td>DOUBLE</td>\n",
       "            <td>YES</td>\n",
       "            <td>None</td>\n",
       "            <td>None</td>\n",
       "            <td>None</td>\n",
       "        </tr>\n",
       "        <tr>\n",
       "            <td>TotalFeedbackCount</td>\n",
       "            <td>BIGINT</td>\n",
       "            <td>YES</td>\n",
       "            <td>None</td>\n",
       "            <td>None</td>\n",
       "            <td>None</td>\n",
       "        </tr>\n",
       "        <tr>\n",
       "            <td>TotalNegativeFeedbackCount</td>\n",
       "            <td>BIGINT</td>\n",
       "            <td>YES</td>\n",
       "            <td>None</td>\n",
       "            <td>None</td>\n",
       "            <td>None</td>\n",
       "        </tr>\n",
       "        <tr>\n",
       "            <td>TotalPositiveFeedbackCount</td>\n",
       "            <td>BIGINT</td>\n",
       "            <td>YES</td>\n",
       "            <td>None</td>\n",
       "            <td>None</td>\n",
       "            <td>None</td>\n",
       "        </tr>\n",
       "        <tr>\n",
       "            <td>reviewtext</td>\n",
       "            <td>VARCHAR</td>\n",
       "            <td>YES</td>\n",
       "            <td>None</td>\n",
       "            <td>None</td>\n",
       "            <td>None</td>\n",
       "        </tr>\n",
       "        <tr>\n",
       "            <td>title</td>\n",
       "            <td>VARCHAR</td>\n",
       "            <td>YES</td>\n",
       "            <td>None</td>\n",
       "            <td>None</td>\n",
       "            <td>None</td>\n",
       "        </tr>\n",
       "        <tr>\n",
       "            <td>ContextDataValues_1</td>\n",
       "            <td>STRUCT(skinType STRUCT(\"Value\" VARCHAR, Id VARCHAR, ValueLabel VARCHAR, DimensionLabel VARCHAR), IncentivizedReview STRUCT(\"Value\" VARCHAR, Id VARCHAR, ValueLabel VARCHAR, DimensionLabel VARCHAR), skinTone STRUCT(\"Value\" VARCHAR, Id VARCHAR, ValueLabel VARCHAR, DimensionLabel VARCHAR), hairColor STRUCT(\"Value\" VARCHAR, Id VARCHAR, ValueLabel VARCHAR, DimensionLabel VARCHAR), eyeColor STRUCT(\"Value\" VARCHAR, Id VARCHAR, ValueLabel VARCHAR, DimensionLabel VARCHAR), StaffContext STRUCT(\"Value\" VARCHAR, Id VARCHAR, ValueLabel VARCHAR, DimensionLabel VARCHAR), age STRUCT(\"Value\" VARCHAR, Id VARCHAR, ValueLabel VARCHAR, DimensionLabel VARCHAR))</td>\n",
       "            <td>YES</td>\n",
       "            <td>None</td>\n",
       "            <td>None</td>\n",
       "            <td>None</td>\n",
       "        </tr>\n",
       "        <tr>\n",
       "            <td>ratingrange</td>\n",
       "            <td>BIGINT</td>\n",
       "            <td>YES</td>\n",
       "            <td>None</td>\n",
       "            <td>None</td>\n",
       "            <td>None</td>\n",
       "        </tr>\n",
       "    </tbody>\n",
       "</table>"
      ],
      "text/plain": [
       "+----------------------------+------------------------------------------------------------------------------------------------------------------------------------------------------------------------------------------------------------------------------------------------------------------------------------------------------------------------------------------------------------------------------------------------------------------------------------------------------------------------------------------------------------------------------------------------------------------------------------------------------------------------------------------------------------------------+------+------+---------+-------+\n",
       "|        column_name         |                                                                                                                                                                                                                                                                                                                              column_type                                                                                                                                                                                                                                                                                                                               | null | key  | default | extra |\n",
       "+----------------------------+------------------------------------------------------------------------------------------------------------------------------------------------------------------------------------------------------------------------------------------------------------------------------------------------------------------------------------------------------------------------------------------------------------------------------------------------------------------------------------------------------------------------------------------------------------------------------------------------------------------------------------------------------------------------+------+------+---------+-------+\n",
       "|   contextdatavaluesorder   |                                                                                                                                                                                                                                                                                                                               VARCHAR[]                                                                                                                                                                                                                                                                                                                                | YES  | None |   None  |  None |\n",
       "|     ContextDataValues      | STRUCT(skinType STRUCT(\"Value\" VARCHAR, Id VARCHAR, ValueLabel VARCHAR, DimensionLabel VARCHAR), IncentivizedReview STRUCT(\"Value\" VARCHAR, Id VARCHAR, ValueLabel VARCHAR, DimensionLabel VARCHAR), skinTone STRUCT(\"Value\" VARCHAR, Id VARCHAR, ValueLabel VARCHAR, DimensionLabel VARCHAR), hairColor STRUCT(\"Value\" VARCHAR, Id VARCHAR, ValueLabel VARCHAR, DimensionLabel VARCHAR), eyeColor STRUCT(\"Value\" VARCHAR, Id VARCHAR, ValueLabel VARCHAR, DimensionLabel VARCHAR), StaffContext STRUCT(\"Value\" VARCHAR, Id VARCHAR, ValueLabel VARCHAR, DimensionLabel VARCHAR), age STRUCT(\"Value\" VARCHAR, Id VARCHAR, ValueLabel VARCHAR, DimensionLabel VARCHAR)) | YES  | None |   None  |  None |\n",
       "|         isfeatured         |                                                                                                                                                                                                                                                                                                                                BOOLEAN                                                                                                                                                                                                                                                                                                                                 | YES  | None |   None  |  None |\n",
       "|           rating           |                                                                                                                                                                                                                                                                                                                                 BIGINT                                                                                                                                                                                                                                                                                                                                 | YES  | None |   None  |  None |\n",
       "|       isratingsonly        |                                                                                                                                                                                                                                                                                                                                BOOLEAN                                                                                                                                                                                                                                                                                                                                 | YES  | None |   None  |  None |\n",
       "|       isrecommended        |                                                                                                                                                                                                                                                                                                                                BOOLEAN                                                                                                                                                                                                                                                                                                                                 | YES  | None |   None  |  None |\n",
       "|        helpfulness         |                                                                                                                                                                                                                                                                                                                                 DOUBLE                                                                                                                                                                                                                                                                                                                                 | YES  | None |   None  |  None |\n",
       "|     TotalFeedbackCount     |                                                                                                                                                                                                                                                                                                                                 BIGINT                                                                                                                                                                                                                                                                                                                                 | YES  | None |   None  |  None |\n",
       "| TotalNegativeFeedbackCount |                                                                                                                                                                                                                                                                                                                                 BIGINT                                                                                                                                                                                                                                                                                                                                 | YES  | None |   None  |  None |\n",
       "| TotalPositiveFeedbackCount |                                                                                                                                                                                                                                                                                                                                 BIGINT                                                                                                                                                                                                                                                                                                                                 | YES  | None |   None  |  None |\n",
       "|         reviewtext         |                                                                                                                                                                                                                                                                                                                                VARCHAR                                                                                                                                                                                                                                                                                                                                 | YES  | None |   None  |  None |\n",
       "|           title            |                                                                                                                                                                                                                                                                                                                                VARCHAR                                                                                                                                                                                                                                                                                                                                 | YES  | None |   None  |  None |\n",
       "|    ContextDataValues_1     | STRUCT(skinType STRUCT(\"Value\" VARCHAR, Id VARCHAR, ValueLabel VARCHAR, DimensionLabel VARCHAR), IncentivizedReview STRUCT(\"Value\" VARCHAR, Id VARCHAR, ValueLabel VARCHAR, DimensionLabel VARCHAR), skinTone STRUCT(\"Value\" VARCHAR, Id VARCHAR, ValueLabel VARCHAR, DimensionLabel VARCHAR), hairColor STRUCT(\"Value\" VARCHAR, Id VARCHAR, ValueLabel VARCHAR, DimensionLabel VARCHAR), eyeColor STRUCT(\"Value\" VARCHAR, Id VARCHAR, ValueLabel VARCHAR, DimensionLabel VARCHAR), StaffContext STRUCT(\"Value\" VARCHAR, Id VARCHAR, ValueLabel VARCHAR, DimensionLabel VARCHAR), age STRUCT(\"Value\" VARCHAR, Id VARCHAR, ValueLabel VARCHAR, DimensionLabel VARCHAR)) | YES  | None |   None  |  None |\n",
       "|        ratingrange         |                                                                                                                                                                                                                                                                                                                                 BIGINT                                                                                                                                                                                                                                                                                                                                 | YES  | None |   None  |  None |\n",
       "+----------------------------+------------------------------------------------------------------------------------------------------------------------------------------------------------------------------------------------------------------------------------------------------------------------------------------------------------------------------------------------------------------------------------------------------------------------------------------------------------------------------------------------------------------------------------------------------------------------------------------------------------------------------------------------------------------------+------+------+---------+-------+"
      ]
     },
     "execution_count": 38,
     "metadata": {},
     "output_type": "execute_result"
    }
   ],
   "source": [
    "%sql describe reviews_clean "
   ]
  },
  {
   "cell_type": "code",
   "execution_count": 40,
   "metadata": {},
   "outputs": [
    {
     "data": {
      "text/html": [
       "<span style=\"None\">Running query in &#x27;duckdb&#x27;</span>"
      ],
      "text/plain": [
       "Running query in 'duckdb'"
      ]
     },
     "metadata": {},
     "output_type": "display_data"
    },
    {
     "data": {
      "text/html": [
       "<table>\n",
       "    <thead>\n",
       "        <tr>\n",
       "            <th>contextdatavaluesorder</th>\n",
       "            <th>ContextDataValues</th>\n",
       "            <th>isfeatured</th>\n",
       "            <th>rating</th>\n",
       "            <th>isratingsonly</th>\n",
       "            <th>isrecommended</th>\n",
       "            <th>helpfulness</th>\n",
       "            <th>TotalFeedbackCount</th>\n",
       "            <th>TotalNegativeFeedbackCount</th>\n",
       "            <th>TotalPositiveFeedbackCount</th>\n",
       "            <th>reviewtext</th>\n",
       "            <th>title</th>\n",
       "            <th>ContextDataValues_1</th>\n",
       "            <th>ratingrange</th>\n",
       "        </tr>\n",
       "    </thead>\n",
       "    <tbody>\n",
       "        <tr>\n",
       "            <td>['IncentivizedReview', 'skinTone', 'skinType', 'eyeColor', 'hairColor']</td>\n",
       "            <td>{'skinType': {'Value': 'normal', 'Id': 'skinType', 'ValueLabel': 'Normal', 'DimensionLabel': 'Skin Type'}, 'IncentivizedReview': {'Value': 'False', 'Id': 'IncentivizedReview', 'ValueLabel': 'No', 'DimensionLabel': 'I received this product as a free sample'}, 'skinTone': {'Value': 'light', 'Id': 'skinTone', 'ValueLabel': 'Light', 'DimensionLabel': 'Skin Tone'}, 'hairColor': {'Value': 'blonde', 'Id': 'hairColor', 'ValueLabel': 'blonde', 'DimensionLabel': 'Hair Color'}, 'eyeColor': {'Value': 'brown', 'Id': 'eyeColor', 'ValueLabel': 'Brown', 'DimensionLabel': 'Eye Color'}, 'StaffContext': None, 'age': None}</td>\n",
       "            <td>False</td>\n",
       "            <td>5</td>\n",
       "            <td>False</td>\n",
       "            <td>True</td>\n",
       "            <td>1.0</td>\n",
       "            <td>1</td>\n",
       "            <td>0</td>\n",
       "            <td>1</td>\n",
       "            <td>I used this product over the past few months, I am very satisfied with the matte results! Personally I like to apply moisturizer as I have normal skin type for feeling more hydrated. The coverage is pretty good and long-lasting. I recommend this productt specially for oily skin type.</td>\n",
       "            <td>Even good for bridal makeup</td>\n",
       "            <td>{'skinType': {'Value': 'normal', 'Id': 'skinType', 'ValueLabel': 'Normal', 'DimensionLabel': 'Skin Type'}, 'IncentivizedReview': {'Value': 'False', 'Id': 'IncentivizedReview', 'ValueLabel': 'No', 'DimensionLabel': 'I received this product as a free sample'}, 'skinTone': {'Value': 'light', 'Id': 'skinTone', 'ValueLabel': 'Light', 'DimensionLabel': 'Skin Tone'}, 'hairColor': {'Value': 'blonde', 'Id': 'hairColor', 'ValueLabel': 'blonde', 'DimensionLabel': 'Hair Color'}, 'eyeColor': {'Value': 'brown', 'Id': 'eyeColor', 'ValueLabel': 'Brown', 'DimensionLabel': 'Eye Color'}, 'StaffContext': None, 'age': None}</td>\n",
       "            <td>5</td>\n",
       "        </tr>\n",
       "        <tr>\n",
       "            <td>['IncentivizedReview', 'StaffContext', 'skinTone', 'skinType', 'eyeColor', 'hairColor']</td>\n",
       "            <td>{'skinType': {'Value': 'combination', 'Id': 'skinType', 'ValueLabel': 'Combination', 'DimensionLabel': 'Skin Type'}, 'IncentivizedReview': {'Value': 'False', 'Id': 'IncentivizedReview', 'ValueLabel': 'No', 'DimensionLabel': 'I received this product as a free sample'}, 'skinTone': {'Value': 'lightMedium', 'Id': 'skinTone', 'ValueLabel': 'lightMedium', 'DimensionLabel': 'Skin Tone'}, 'hairColor': {'Value': 'black', 'Id': 'hairColor', 'ValueLabel': 'black', 'DimensionLabel': 'Hair Color'}, 'eyeColor': {'Value': 'brown', 'Id': 'eyeColor', 'ValueLabel': 'Brown', 'DimensionLabel': 'Eye Color'}, 'StaffContext': {'Value': 'false', 'Id': 'StaffContext', 'ValueLabel': 'No', 'DimensionLabel': 'I am a Sephora employee'}, 'age': None}</td>\n",
       "            <td>False</td>\n",
       "            <td>4</td>\n",
       "            <td>False</td>\n",
       "            <td>True</td>\n",
       "            <td>1.0</td>\n",
       "            <td>2</td>\n",
       "            <td>0</td>\n",
       "            <td>2</td>\n",
       "            <td>I don’t really wear foundation but I did buy this one to just have one.  I love the way it doesn’t cake up under my eyes!</td>\n",
       "            <td>My go-to foundation!</td>\n",
       "            <td>{'skinType': {'Value': 'combination', 'Id': 'skinType', 'ValueLabel': 'Combination', 'DimensionLabel': 'Skin Type'}, 'IncentivizedReview': {'Value': 'False', 'Id': 'IncentivizedReview', 'ValueLabel': 'No', 'DimensionLabel': 'I received this product as a free sample'}, 'skinTone': {'Value': 'lightMedium', 'Id': 'skinTone', 'ValueLabel': 'lightMedium', 'DimensionLabel': 'Skin Tone'}, 'hairColor': {'Value': 'black', 'Id': 'hairColor', 'ValueLabel': 'black', 'DimensionLabel': 'Hair Color'}, 'eyeColor': {'Value': 'brown', 'Id': 'eyeColor', 'ValueLabel': 'Brown', 'DimensionLabel': 'Eye Color'}, 'StaffContext': {'Value': 'false', 'Id': 'StaffContext', 'ValueLabel': 'No', 'DimensionLabel': 'I am a Sephora employee'}, 'age': None}</td>\n",
       "            <td>5</td>\n",
       "        </tr>\n",
       "        <tr>\n",
       "            <td>['IncentivizedReview', 'StaffContext', 'skinTone', 'skinType', 'eyeColor', 'hairColor']</td>\n",
       "            <td>{'skinType': {'Value': 'dry', 'Id': 'skinType', 'ValueLabel': 'Dry', 'DimensionLabel': 'Skin Type'}, 'IncentivizedReview': {'Value': 'False', 'Id': 'IncentivizedReview', 'ValueLabel': 'No', 'DimensionLabel': 'I received this product as a free sample'}, 'skinTone': {'Value': 'fairLight', 'Id': 'skinTone', 'ValueLabel': 'fairLight', 'DimensionLabel': 'Skin Tone'}, 'hairColor': {'Value': 'blonde', 'Id': 'hairColor', 'ValueLabel': 'blonde', 'DimensionLabel': 'Hair Color'}, 'eyeColor': {'Value': 'blue', 'Id': 'eyeColor', 'ValueLabel': 'Blue', 'DimensionLabel': 'Eye Color'}, 'StaffContext': {'Value': 'false', 'Id': 'StaffContext', 'ValueLabel': 'No', 'DimensionLabel': 'I am a Sephora employee'}, 'age': None}</td>\n",
       "            <td>False</td>\n",
       "            <td>2</td>\n",
       "            <td>False</td>\n",
       "            <td>False</td>\n",
       "            <td>1.0</td>\n",
       "            <td>1</td>\n",
       "            <td>0</td>\n",
       "            <td>1</td>\n",
       "            <td>I couldn’t get this to work for my skin. I am dry but exfoliate and prep well. It broke up and clings to my dry skin. Would not recommend.</td>\n",
       "            <td>None</td>\n",
       "            <td>{'skinType': {'Value': 'dry', 'Id': 'skinType', 'ValueLabel': 'Dry', 'DimensionLabel': 'Skin Type'}, 'IncentivizedReview': {'Value': 'False', 'Id': 'IncentivizedReview', 'ValueLabel': 'No', 'DimensionLabel': 'I received this product as a free sample'}, 'skinTone': {'Value': 'fairLight', 'Id': 'skinTone', 'ValueLabel': 'fairLight', 'DimensionLabel': 'Skin Tone'}, 'hairColor': {'Value': 'blonde', 'Id': 'hairColor', 'ValueLabel': 'blonde', 'DimensionLabel': 'Hair Color'}, 'eyeColor': {'Value': 'blue', 'Id': 'eyeColor', 'ValueLabel': 'Blue', 'DimensionLabel': 'Eye Color'}, 'StaffContext': {'Value': 'false', 'Id': 'StaffContext', 'ValueLabel': 'No', 'DimensionLabel': 'I am a Sephora employee'}, 'age': None}</td>\n",
       "            <td>5</td>\n",
       "        </tr>\n",
       "        <tr>\n",
       "            <td>['IncentivizedReview', 'StaffContext', 'skinTone', 'skinType', 'eyeColor', 'hairColor']</td>\n",
       "            <td>{'skinType': {'Value': 'combination', 'Id': 'skinType', 'ValueLabel': 'Combination', 'DimensionLabel': 'Skin Type'}, 'IncentivizedReview': {'Value': 'False', 'Id': 'IncentivizedReview', 'ValueLabel': 'No', 'DimensionLabel': 'I received this product as a free sample'}, 'skinTone': {'Value': 'medium', 'Id': 'skinTone', 'ValueLabel': 'Medium', 'DimensionLabel': 'Skin Tone'}, 'hairColor': {'Value': 'auburn', 'Id': 'hairColor', 'ValueLabel': 'auburn', 'DimensionLabel': 'Hair Color'}, 'eyeColor': {'Value': 'hazel', 'Id': 'eyeColor', 'ValueLabel': 'Hazel', 'DimensionLabel': 'Eye Color'}, 'StaffContext': {'Value': 'false', 'Id': 'StaffContext', 'ValueLabel': 'No', 'DimensionLabel': 'I am a Sephora employee'}, 'age': None}</td>\n",
       "            <td>False</td>\n",
       "            <td>1</td>\n",
       "            <td>False</td>\n",
       "            <td>False</td>\n",
       "            <td>1.0</td>\n",
       "            <td>3</td>\n",
       "            <td>0</td>\n",
       "            <td>3</td>\n",
       "            <td>It’s the worst foundation I’ve ever used. It’s so blend. It’s so thick and gross. I wasted my money honestly.</td>\n",
       "            <td>Waste of money</td>\n",
       "            <td>{'skinType': {'Value': 'combination', 'Id': 'skinType', 'ValueLabel': 'Combination', 'DimensionLabel': 'Skin Type'}, 'IncentivizedReview': {'Value': 'False', 'Id': 'IncentivizedReview', 'ValueLabel': 'No', 'DimensionLabel': 'I received this product as a free sample'}, 'skinTone': {'Value': 'medium', 'Id': 'skinTone', 'ValueLabel': 'Medium', 'DimensionLabel': 'Skin Tone'}, 'hairColor': {'Value': 'auburn', 'Id': 'hairColor', 'ValueLabel': 'auburn', 'DimensionLabel': 'Hair Color'}, 'eyeColor': {'Value': 'hazel', 'Id': 'eyeColor', 'ValueLabel': 'Hazel', 'DimensionLabel': 'Eye Color'}, 'StaffContext': {'Value': 'false', 'Id': 'StaffContext', 'ValueLabel': 'No', 'DimensionLabel': 'I am a Sephora employee'}, 'age': None}</td>\n",
       "            <td>5</td>\n",
       "        </tr>\n",
       "        <tr>\n",
       "            <td>['skinType', 'eyeColor']</td>\n",
       "            <td>{'skinType': {'Value': 'oily', 'Id': 'skinType', 'ValueLabel': 'Oily', 'DimensionLabel': 'Skin Type'}, 'IncentivizedReview': None, 'skinTone': None, 'hairColor': None, 'eyeColor': {'Value': 'brown', 'Id': 'eyeColor', 'ValueLabel': 'Brown', 'DimensionLabel': 'Eye Color'}, 'StaffContext': None, 'age': None}</td>\n",
       "            <td>False</td>\n",
       "            <td>5</td>\n",
       "            <td>False</td>\n",
       "            <td>True</td>\n",
       "            <td>1.0</td>\n",
       "            <td>3</td>\n",
       "            <td>0</td>\n",
       "            <td>3</td>\n",
       "            <td>Ever since Fenty pulled up into the makeup scene, I’ve been a fan. I have sensitive/combo skin and this makeup lasts all day and does not smudge unless it’s makeup remover. Love the matte finish and is very great and build up of the contour and concealer of different brands.</td>\n",
       "            <td>Fav matte foundation</td>\n",
       "            <td>{'skinType': {'Value': 'oily', 'Id': 'skinType', 'ValueLabel': 'Oily', 'DimensionLabel': 'Skin Type'}, 'IncentivizedReview': None, 'skinTone': None, 'hairColor': None, 'eyeColor': {'Value': 'brown', 'Id': 'eyeColor', 'ValueLabel': 'Brown', 'DimensionLabel': 'Eye Color'}, 'StaffContext': None, 'age': None}</td>\n",
       "            <td>5</td>\n",
       "        </tr>\n",
       "        <tr>\n",
       "            <td>['skinTone', 'skinType']</td>\n",
       "            <td>{'skinType': {'Value': 'dry', 'Id': 'skinType', 'ValueLabel': 'Dry', 'DimensionLabel': 'Skin Type'}, 'IncentivizedReview': None, 'skinTone': {'Value': 'fair', 'Id': 'skinTone', 'ValueLabel': 'Fair', 'DimensionLabel': 'Skin Tone'}, 'hairColor': None, 'eyeColor': None, 'StaffContext': None, 'age': None}</td>\n",
       "            <td>False</td>\n",
       "            <td>5</td>\n",
       "            <td>False</td>\n",
       "            <td>True</td>\n",
       "            <td>1.0</td>\n",
       "            <td>2</td>\n",
       "            <td>0</td>\n",
       "            <td>2</td>\n",
       "            <td>Best foundation I’ve ever used!!! Tried so many brands but they never blended right with my skin. Saw this on tik tok and thought why not try it and so glad I did. Very light coverage when applied correctly but still covers face well. (I struggle with dry skin but this foundation doesn’t show that) Will use this for my new daily makeup!</td>\n",
       "            <td>LOVE</td>\n",
       "            <td>{'skinType': {'Value': 'dry', 'Id': 'skinType', 'ValueLabel': 'Dry', 'DimensionLabel': 'Skin Type'}, 'IncentivizedReview': None, 'skinTone': {'Value': 'fair', 'Id': 'skinTone', 'ValueLabel': 'Fair', 'DimensionLabel': 'Skin Tone'}, 'hairColor': None, 'eyeColor': None, 'StaffContext': None, 'age': None}</td>\n",
       "            <td>5</td>\n",
       "        </tr>\n",
       "        <tr>\n",
       "            <td>['IncentivizedReview', 'StaffContext', 'skinTone', 'skinType', 'eyeColor', 'hairColor']</td>\n",
       "            <td>{'skinType': {'Value': 'oily', 'Id': 'skinType', 'ValueLabel': 'Oily', 'DimensionLabel': 'Skin Type'}, 'IncentivizedReview': {'Value': 'False', 'Id': 'IncentivizedReview', 'ValueLabel': 'No', 'DimensionLabel': 'I received this product as a free sample'}, 'skinTone': {'Value': 'tan', 'Id': 'skinTone', 'ValueLabel': 'Tan', 'DimensionLabel': 'Skin Tone'}, 'hairColor': {'Value': 'brown', 'Id': 'hairColor', 'ValueLabel': 'brown', 'DimensionLabel': 'Hair Color'}, 'eyeColor': {'Value': 'brown', 'Id': 'eyeColor', 'ValueLabel': 'Brown', 'DimensionLabel': 'Eye Color'}, 'StaffContext': {'Value': 'false', 'Id': 'StaffContext', 'ValueLabel': 'No', 'DimensionLabel': 'I am a Sephora employee'}, 'age': None}</td>\n",
       "            <td>False</td>\n",
       "            <td>5</td>\n",
       "            <td>False</td>\n",
       "            <td>True</td>\n",
       "            <td>1.0</td>\n",
       "            <td>2</td>\n",
       "            <td>0</td>\n",
       "            <td>2</td>\n",
       "            <td>Best foundation I’ve found so far and the pricing is not bad, my sister forgot her foundation and I let her borrow some and she loved it and is going to buy one.</td>\n",
       "            <td>None</td>\n",
       "            <td>{'skinType': {'Value': 'oily', 'Id': 'skinType', 'ValueLabel': 'Oily', 'DimensionLabel': 'Skin Type'}, 'IncentivizedReview': {'Value': 'False', 'Id': 'IncentivizedReview', 'ValueLabel': 'No', 'DimensionLabel': 'I received this product as a free sample'}, 'skinTone': {'Value': 'tan', 'Id': 'skinTone', 'ValueLabel': 'Tan', 'DimensionLabel': 'Skin Tone'}, 'hairColor': {'Value': 'brown', 'Id': 'hairColor', 'ValueLabel': 'brown', 'DimensionLabel': 'Hair Color'}, 'eyeColor': {'Value': 'brown', 'Id': 'eyeColor', 'ValueLabel': 'Brown', 'DimensionLabel': 'Eye Color'}, 'StaffContext': {'Value': 'false', 'Id': 'StaffContext', 'ValueLabel': 'No', 'DimensionLabel': 'I am a Sephora employee'}, 'age': None}</td>\n",
       "            <td>5</td>\n",
       "        </tr>\n",
       "        <tr>\n",
       "            <td>['IncentivizedReview', 'skinTone', 'skinType', 'eyeColor', 'hairColor']</td>\n",
       "            <td>{'skinType': {'Value': 'combination', 'Id': 'skinType', 'ValueLabel': 'Combination', 'DimensionLabel': 'Skin Type'}, 'IncentivizedReview': {'Value': 'False', 'Id': 'IncentivizedReview', 'ValueLabel': 'No', 'DimensionLabel': 'I received this product as a free sample'}, 'skinTone': {'Value': 'fairLight', 'Id': 'skinTone', 'ValueLabel': 'fairLight', 'DimensionLabel': 'Skin Tone'}, 'hairColor': {'Value': 'brown', 'Id': 'hairColor', 'ValueLabel': 'brown', 'DimensionLabel': 'Hair Color'}, 'eyeColor': {'Value': 'blue', 'Id': 'eyeColor', 'ValueLabel': 'Blue', 'DimensionLabel': 'Eye Color'}, 'StaffContext': None, 'age': None}</td>\n",
       "            <td>False</td>\n",
       "            <td>1</td>\n",
       "            <td>False</td>\n",
       "            <td>False</td>\n",
       "            <td>1.0</td>\n",
       "            <td>1</td>\n",
       "            <td>0</td>\n",
       "            <td>1</td>\n",
       "            <td>Dog poo, I looked great for the first hour then just melted off my face, ive tried multiple different applying techniques and it still looked cakey and crusty</td>\n",
       "            <td>No, dont be influenced!</td>\n",
       "            <td>{'skinType': {'Value': 'combination', 'Id': 'skinType', 'ValueLabel': 'Combination', 'DimensionLabel': 'Skin Type'}, 'IncentivizedReview': {'Value': 'False', 'Id': 'IncentivizedReview', 'ValueLabel': 'No', 'DimensionLabel': 'I received this product as a free sample'}, 'skinTone': {'Value': 'fairLight', 'Id': 'skinTone', 'ValueLabel': 'fairLight', 'DimensionLabel': 'Skin Tone'}, 'hairColor': {'Value': 'brown', 'Id': 'hairColor', 'ValueLabel': 'brown', 'DimensionLabel': 'Hair Color'}, 'eyeColor': {'Value': 'blue', 'Id': 'eyeColor', 'ValueLabel': 'Blue', 'DimensionLabel': 'Eye Color'}, 'StaffContext': None, 'age': None}</td>\n",
       "            <td>5</td>\n",
       "        </tr>\n",
       "        <tr>\n",
       "            <td>['skinType', 'eyeColor']</td>\n",
       "            <td>{'skinType': {'Value': 'combination', 'Id': 'skinType', 'ValueLabel': 'Combination', 'DimensionLabel': 'Skin Type'}, 'IncentivizedReview': None, 'skinTone': None, 'hairColor': None, 'eyeColor': {'Value': 'blue', 'Id': 'eyeColor', 'ValueLabel': 'Blue', 'DimensionLabel': 'Eye Color'}, 'StaffContext': None, 'age': None}</td>\n",
       "            <td>False</td>\n",
       "            <td>4</td>\n",
       "            <td>False</td>\n",
       "            <td>True</td>\n",
       "            <td>1.0</td>\n",
       "            <td>2</td>\n",
       "            <td>0</td>\n",
       "            <td>2</td>\n",
       "            <td>I was sadly kind of underwhelmed by this. It goes on shockingly light but when it oxidizes it dries down to nearly a perfect match for my skin, but it's orange-y, which is typical for me. My undertone is very pink, and even now that many lines are carrying foundations in my shade range it's still really difficult to find something that isn't neutral/warm leaning. Since I bought this ages ago I also started using adapalene and I don't think there's any way I could use this without drying the heck out of my already-dry face. I think the formula is great if it works for your skin, and you test out the shade beforehand in-store, but if you are looking for a very light foundation with a genuinely cool undertone this isn't it.</td>\n",
       "            <td>Not for Cool Pink Undertone Girlies</td>\n",
       "            <td>{'skinType': {'Value': 'combination', 'Id': 'skinType', 'ValueLabel': 'Combination', 'DimensionLabel': 'Skin Type'}, 'IncentivizedReview': None, 'skinTone': None, 'hairColor': None, 'eyeColor': {'Value': 'blue', 'Id': 'eyeColor', 'ValueLabel': 'Blue', 'DimensionLabel': 'Eye Color'}, 'StaffContext': None, 'age': None}</td>\n",
       "            <td>5</td>\n",
       "        </tr>\n",
       "        <tr>\n",
       "            <td>['IncentivizedReview', 'StaffContext']</td>\n",
       "            <td>{'skinType': None, 'IncentivizedReview': {'Value': 'False', 'Id': 'IncentivizedReview', 'ValueLabel': 'No', 'DimensionLabel': 'I received this product as a free sample'}, 'skinTone': None, 'hairColor': None, 'eyeColor': None, 'StaffContext': {'Value': 'false', 'Id': 'StaffContext', 'ValueLabel': 'No', 'DimensionLabel': 'I am a Sephora employee'}, 'age': None}</td>\n",
       "            <td>False</td>\n",
       "            <td>5</td>\n",
       "            <td>False</td>\n",
       "            <td>True</td>\n",
       "            <td>1.0</td>\n",
       "            <td>2</td>\n",
       "            <td>0</td>\n",
       "            <td>2</td>\n",
       "            <td>I love that thy have color for my skin .. I hardly get my face color . I will buy again</td>\n",
       "            <td>None</td>\n",
       "            <td>{'skinType': None, 'IncentivizedReview': {'Value': 'False', 'Id': 'IncentivizedReview', 'ValueLabel': 'No', 'DimensionLabel': 'I received this product as a free sample'}, 'skinTone': None, 'hairColor': None, 'eyeColor': None, 'StaffContext': {'Value': 'false', 'Id': 'StaffContext', 'ValueLabel': 'No', 'DimensionLabel': 'I am a Sephora employee'}, 'age': None}</td>\n",
       "            <td>5</td>\n",
       "        </tr>\n",
       "    </tbody>\n",
       "</table>"
      ],
      "text/plain": [
       "+-----------------------------------------------------------------------------------------+-------------------------------------------------------------------------------------------------------------------------------------------------------------------------------------------------------------------------------------------------------------------------------------------------------------------------------------------------------------------------------------------------------------------------------------------------------------------------------------------------------------------------------------------------------------------------------------------------------------------------------------------------------------------------------------------------------------------------------------------------------------+------------+--------+---------------+---------------+-------------+--------------------+----------------------------+----------------------------+------------------------------------------------------------------------------------------------------------------------------------------------------------------------------------------------------------------------------------------------------------------------------------------------------------------------------------------------------------------------------------------------------------------------------------------------------------------------------------------------------------------------------------------------------------------------------------------------------------------------------------------------------------------------------------------------------------------------------------------------------------+-------------------------------------+-------------------------------------------------------------------------------------------------------------------------------------------------------------------------------------------------------------------------------------------------------------------------------------------------------------------------------------------------------------------------------------------------------------------------------------------------------------------------------------------------------------------------------------------------------------------------------------------------------------------------------------------------------------------------------------------------------------------------------------------------------------+-------------+\n",
       "|                                  contextdatavaluesorder                                 |                                                                                                                                                                                                                                                                                                                                                                      ContextDataValues                                                                                                                                                                                                                                                                                                                                                                      | isfeatured | rating | isratingsonly | isrecommended | helpfulness | TotalFeedbackCount | TotalNegativeFeedbackCount | TotalPositiveFeedbackCount |                                                                                                                                                                                                                                                                                                                                                                         reviewtext                                                                                                                                                                                                                                                                                                                                                                         |                title                |                                                                                                                                                                                                                                                                                                                                                                     ContextDataValues_1                                                                                                                                                                                                                                                                                                                                                                     | ratingrange |\n",
       "+-----------------------------------------------------------------------------------------+-------------------------------------------------------------------------------------------------------------------------------------------------------------------------------------------------------------------------------------------------------------------------------------------------------------------------------------------------------------------------------------------------------------------------------------------------------------------------------------------------------------------------------------------------------------------------------------------------------------------------------------------------------------------------------------------------------------------------------------------------------------+------------+--------+---------------+---------------+-------------+--------------------+----------------------------+----------------------------+------------------------------------------------------------------------------------------------------------------------------------------------------------------------------------------------------------------------------------------------------------------------------------------------------------------------------------------------------------------------------------------------------------------------------------------------------------------------------------------------------------------------------------------------------------------------------------------------------------------------------------------------------------------------------------------------------------------------------------------------------------+-------------------------------------+-------------------------------------------------------------------------------------------------------------------------------------------------------------------------------------------------------------------------------------------------------------------------------------------------------------------------------------------------------------------------------------------------------------------------------------------------------------------------------------------------------------------------------------------------------------------------------------------------------------------------------------------------------------------------------------------------------------------------------------------------------------+-------------+\n",
       "|         ['IncentivizedReview', 'skinTone', 'skinType', 'eyeColor', 'hairColor']         |                                                              {'skinType': {'Value': 'normal', 'Id': 'skinType', 'ValueLabel': 'Normal', 'DimensionLabel': 'Skin Type'}, 'IncentivizedReview': {'Value': 'False', 'Id': 'IncentivizedReview', 'ValueLabel': 'No', 'DimensionLabel': 'I received this product as a free sample'}, 'skinTone': {'Value': 'light', 'Id': 'skinTone', 'ValueLabel': 'Light', 'DimensionLabel': 'Skin Tone'}, 'hairColor': {'Value': 'blonde', 'Id': 'hairColor', 'ValueLabel': 'blonde', 'DimensionLabel': 'Hair Color'}, 'eyeColor': {'Value': 'brown', 'Id': 'eyeColor', 'ValueLabel': 'Brown', 'DimensionLabel': 'Eye Color'}, 'StaffContext': None, 'age': None}                                                             |   False    |   5    |     False     |      True     |     1.0     |         1          |             0              |             1              |                                                                                                                                                                                                                                I used this product over the past few months, I am very satisfied with the matte results! Personally I like to apply moisturizer as I have normal skin type for feeling more hydrated. The coverage is pretty good and long-lasting. I recommend this productt specially for oily skin type.                                                                                                                                                                                                                                |     Even good for bridal makeup     |                                                              {'skinType': {'Value': 'normal', 'Id': 'skinType', 'ValueLabel': 'Normal', 'DimensionLabel': 'Skin Type'}, 'IncentivizedReview': {'Value': 'False', 'Id': 'IncentivizedReview', 'ValueLabel': 'No', 'DimensionLabel': 'I received this product as a free sample'}, 'skinTone': {'Value': 'light', 'Id': 'skinTone', 'ValueLabel': 'Light', 'DimensionLabel': 'Skin Tone'}, 'hairColor': {'Value': 'blonde', 'Id': 'hairColor', 'ValueLabel': 'blonde', 'DimensionLabel': 'Hair Color'}, 'eyeColor': {'Value': 'brown', 'Id': 'eyeColor', 'ValueLabel': 'Brown', 'DimensionLabel': 'Eye Color'}, 'StaffContext': None, 'age': None}                                                             |      5      |\n",
       "| ['IncentivizedReview', 'StaffContext', 'skinTone', 'skinType', 'eyeColor', 'hairColor'] | {'skinType': {'Value': 'combination', 'Id': 'skinType', 'ValueLabel': 'Combination', 'DimensionLabel': 'Skin Type'}, 'IncentivizedReview': {'Value': 'False', 'Id': 'IncentivizedReview', 'ValueLabel': 'No', 'DimensionLabel': 'I received this product as a free sample'}, 'skinTone': {'Value': 'lightMedium', 'Id': 'skinTone', 'ValueLabel': 'lightMedium', 'DimensionLabel': 'Skin Tone'}, 'hairColor': {'Value': 'black', 'Id': 'hairColor', 'ValueLabel': 'black', 'DimensionLabel': 'Hair Color'}, 'eyeColor': {'Value': 'brown', 'Id': 'eyeColor', 'ValueLabel': 'Brown', 'DimensionLabel': 'Eye Color'}, 'StaffContext': {'Value': 'false', 'Id': 'StaffContext', 'ValueLabel': 'No', 'DimensionLabel': 'I am a Sephora employee'}, 'age': None} |   False    |   4    |     False     |      True     |     1.0     |         2          |             0              |             2              |                                                                                                                                                                                                                                                                                                                 I don’t really wear foundation but I did buy this one to just have one.  I love the way it doesn’t cake up under my eyes!                                                                                                                                                                                                                                                                                                                  |         My go-to foundation!        | {'skinType': {'Value': 'combination', 'Id': 'skinType', 'ValueLabel': 'Combination', 'DimensionLabel': 'Skin Type'}, 'IncentivizedReview': {'Value': 'False', 'Id': 'IncentivizedReview', 'ValueLabel': 'No', 'DimensionLabel': 'I received this product as a free sample'}, 'skinTone': {'Value': 'lightMedium', 'Id': 'skinTone', 'ValueLabel': 'lightMedium', 'DimensionLabel': 'Skin Tone'}, 'hairColor': {'Value': 'black', 'Id': 'hairColor', 'ValueLabel': 'black', 'DimensionLabel': 'Hair Color'}, 'eyeColor': {'Value': 'brown', 'Id': 'eyeColor', 'ValueLabel': 'Brown', 'DimensionLabel': 'Eye Color'}, 'StaffContext': {'Value': 'false', 'Id': 'StaffContext', 'ValueLabel': 'No', 'DimensionLabel': 'I am a Sephora employee'}, 'age': None} |      5      |\n",
       "| ['IncentivizedReview', 'StaffContext', 'skinTone', 'skinType', 'eyeColor', 'hairColor'] |           {'skinType': {'Value': 'dry', 'Id': 'skinType', 'ValueLabel': 'Dry', 'DimensionLabel': 'Skin Type'}, 'IncentivizedReview': {'Value': 'False', 'Id': 'IncentivizedReview', 'ValueLabel': 'No', 'DimensionLabel': 'I received this product as a free sample'}, 'skinTone': {'Value': 'fairLight', 'Id': 'skinTone', 'ValueLabel': 'fairLight', 'DimensionLabel': 'Skin Tone'}, 'hairColor': {'Value': 'blonde', 'Id': 'hairColor', 'ValueLabel': 'blonde', 'DimensionLabel': 'Hair Color'}, 'eyeColor': {'Value': 'blue', 'Id': 'eyeColor', 'ValueLabel': 'Blue', 'DimensionLabel': 'Eye Color'}, 'StaffContext': {'Value': 'false', 'Id': 'StaffContext', 'ValueLabel': 'No', 'DimensionLabel': 'I am a Sephora employee'}, 'age': None}           |   False    |   2    |     False     |     False     |     1.0     |         1          |             0              |             1              |                                                                                                                                                                                                                                                                                                         I couldn’t get this to work for my skin. I am dry but exfoliate and prep well. It broke up and clings to my dry skin. Would not recommend.                                                                                                                                                                                                                                                                                                         |                 None                |           {'skinType': {'Value': 'dry', 'Id': 'skinType', 'ValueLabel': 'Dry', 'DimensionLabel': 'Skin Type'}, 'IncentivizedReview': {'Value': 'False', 'Id': 'IncentivizedReview', 'ValueLabel': 'No', 'DimensionLabel': 'I received this product as a free sample'}, 'skinTone': {'Value': 'fairLight', 'Id': 'skinTone', 'ValueLabel': 'fairLight', 'DimensionLabel': 'Skin Tone'}, 'hairColor': {'Value': 'blonde', 'Id': 'hairColor', 'ValueLabel': 'blonde', 'DimensionLabel': 'Hair Color'}, 'eyeColor': {'Value': 'blue', 'Id': 'eyeColor', 'ValueLabel': 'Blue', 'DimensionLabel': 'Eye Color'}, 'StaffContext': {'Value': 'false', 'Id': 'StaffContext', 'ValueLabel': 'No', 'DimensionLabel': 'I am a Sephora employee'}, 'age': None}           |      5      |\n",
       "| ['IncentivizedReview', 'StaffContext', 'skinTone', 'skinType', 'eyeColor', 'hairColor'] |     {'skinType': {'Value': 'combination', 'Id': 'skinType', 'ValueLabel': 'Combination', 'DimensionLabel': 'Skin Type'}, 'IncentivizedReview': {'Value': 'False', 'Id': 'IncentivizedReview', 'ValueLabel': 'No', 'DimensionLabel': 'I received this product as a free sample'}, 'skinTone': {'Value': 'medium', 'Id': 'skinTone', 'ValueLabel': 'Medium', 'DimensionLabel': 'Skin Tone'}, 'hairColor': {'Value': 'auburn', 'Id': 'hairColor', 'ValueLabel': 'auburn', 'DimensionLabel': 'Hair Color'}, 'eyeColor': {'Value': 'hazel', 'Id': 'eyeColor', 'ValueLabel': 'Hazel', 'DimensionLabel': 'Eye Color'}, 'StaffContext': {'Value': 'false', 'Id': 'StaffContext', 'ValueLabel': 'No', 'DimensionLabel': 'I am a Sephora employee'}, 'age': None}     |   False    |   1    |     False     |     False     |     1.0     |         3          |             0              |             3              |                                                                                                                                                                                                                                                                                                                       It’s the worst foundation I’ve ever used. It’s so blend. It’s so thick and gross. I wasted my money honestly.                                                                                                                                                                                                                                                                                                                        |            Waste of money           |     {'skinType': {'Value': 'combination', 'Id': 'skinType', 'ValueLabel': 'Combination', 'DimensionLabel': 'Skin Type'}, 'IncentivizedReview': {'Value': 'False', 'Id': 'IncentivizedReview', 'ValueLabel': 'No', 'DimensionLabel': 'I received this product as a free sample'}, 'skinTone': {'Value': 'medium', 'Id': 'skinTone', 'ValueLabel': 'Medium', 'DimensionLabel': 'Skin Tone'}, 'hairColor': {'Value': 'auburn', 'Id': 'hairColor', 'ValueLabel': 'auburn', 'DimensionLabel': 'Hair Color'}, 'eyeColor': {'Value': 'hazel', 'Id': 'eyeColor', 'ValueLabel': 'Hazel', 'DimensionLabel': 'Eye Color'}, 'StaffContext': {'Value': 'false', 'Id': 'StaffContext', 'ValueLabel': 'No', 'DimensionLabel': 'I am a Sephora employee'}, 'age': None}     |      5      |\n",
       "|                                 ['skinType', 'eyeColor']                                |                                                                                                                                                                                                                      {'skinType': {'Value': 'oily', 'Id': 'skinType', 'ValueLabel': 'Oily', 'DimensionLabel': 'Skin Type'}, 'IncentivizedReview': None, 'skinTone': None, 'hairColor': None, 'eyeColor': {'Value': 'brown', 'Id': 'eyeColor', 'ValueLabel': 'Brown', 'DimensionLabel': 'Eye Color'}, 'StaffContext': None, 'age': None}                                                                                                                                                                                                                     |   False    |   5    |     False     |      True     |     1.0     |         3          |             0              |             3              |                                                                                                                                                                                                                                    Ever since Fenty pulled up into the makeup scene, I’ve been a fan. I have sensitive/combo skin and this makeup lasts all day and does not smudge unless it’s makeup remover. Love the matte finish and is very great and build up of the contour and concealer of different brands.                                                                                                                                                                                                                                     |         Fav matte foundation        |                                                                                                                                                                                                                      {'skinType': {'Value': 'oily', 'Id': 'skinType', 'ValueLabel': 'Oily', 'DimensionLabel': 'Skin Type'}, 'IncentivizedReview': None, 'skinTone': None, 'hairColor': None, 'eyeColor': {'Value': 'brown', 'Id': 'eyeColor', 'ValueLabel': 'Brown', 'DimensionLabel': 'Eye Color'}, 'StaffContext': None, 'age': None}                                                                                                                                                                                                                     |      5      |\n",
       "|                                 ['skinTone', 'skinType']                                |                                                                                                                                                                                                                        {'skinType': {'Value': 'dry', 'Id': 'skinType', 'ValueLabel': 'Dry', 'DimensionLabel': 'Skin Type'}, 'IncentivizedReview': None, 'skinTone': {'Value': 'fair', 'Id': 'skinTone', 'ValueLabel': 'Fair', 'DimensionLabel': 'Skin Tone'}, 'hairColor': None, 'eyeColor': None, 'StaffContext': None, 'age': None}                                                                                                                                                                                                                       |   False    |   5    |     False     |      True     |     1.0     |         2          |             0              |             2              |                                                                                                                                                                                                     Best foundation I’ve ever used!!! Tried so many brands but they never blended right with my skin. Saw this on tik tok and thought why not try it and so glad I did. Very light coverage when applied correctly but still covers face well. (I struggle with dry skin but this foundation doesn’t show that) Will use this for my new daily makeup!                                                                                                                                                                                                     |                 LOVE                |                                                                                                                                                                                                                        {'skinType': {'Value': 'dry', 'Id': 'skinType', 'ValueLabel': 'Dry', 'DimensionLabel': 'Skin Type'}, 'IncentivizedReview': None, 'skinTone': {'Value': 'fair', 'Id': 'skinTone', 'ValueLabel': 'Fair', 'DimensionLabel': 'Skin Tone'}, 'hairColor': None, 'eyeColor': None, 'StaffContext': None, 'age': None}                                                                                                                                                                                                                       |      5      |\n",
       "| ['IncentivizedReview', 'StaffContext', 'skinTone', 'skinType', 'eyeColor', 'hairColor'] |                {'skinType': {'Value': 'oily', 'Id': 'skinType', 'ValueLabel': 'Oily', 'DimensionLabel': 'Skin Type'}, 'IncentivizedReview': {'Value': 'False', 'Id': 'IncentivizedReview', 'ValueLabel': 'No', 'DimensionLabel': 'I received this product as a free sample'}, 'skinTone': {'Value': 'tan', 'Id': 'skinTone', 'ValueLabel': 'Tan', 'DimensionLabel': 'Skin Tone'}, 'hairColor': {'Value': 'brown', 'Id': 'hairColor', 'ValueLabel': 'brown', 'DimensionLabel': 'Hair Color'}, 'eyeColor': {'Value': 'brown', 'Id': 'eyeColor', 'ValueLabel': 'Brown', 'DimensionLabel': 'Eye Color'}, 'StaffContext': {'Value': 'false', 'Id': 'StaffContext', 'ValueLabel': 'No', 'DimensionLabel': 'I am a Sephora employee'}, 'age': None}                |   False    |   5    |     False     |      True     |     1.0     |         2          |             0              |             2              |                                                                                                                                                                                                                                                                                             Best foundation I’ve found so far and the pricing is not bad, my sister forgot her foundation and I let her borrow some and she loved it and is going to buy one.                                                                                                                                                                                                                                                                                              |                 None                |                {'skinType': {'Value': 'oily', 'Id': 'skinType', 'ValueLabel': 'Oily', 'DimensionLabel': 'Skin Type'}, 'IncentivizedReview': {'Value': 'False', 'Id': 'IncentivizedReview', 'ValueLabel': 'No', 'DimensionLabel': 'I received this product as a free sample'}, 'skinTone': {'Value': 'tan', 'Id': 'skinTone', 'ValueLabel': 'Tan', 'DimensionLabel': 'Skin Tone'}, 'hairColor': {'Value': 'brown', 'Id': 'hairColor', 'ValueLabel': 'brown', 'DimensionLabel': 'Hair Color'}, 'eyeColor': {'Value': 'brown', 'Id': 'eyeColor', 'ValueLabel': 'Brown', 'DimensionLabel': 'Eye Color'}, 'StaffContext': {'Value': 'false', 'Id': 'StaffContext', 'ValueLabel': 'No', 'DimensionLabel': 'I am a Sephora employee'}, 'age': None}                |      5      |\n",
       "|         ['IncentivizedReview', 'skinTone', 'skinType', 'eyeColor', 'hairColor']         |                                                       {'skinType': {'Value': 'combination', 'Id': 'skinType', 'ValueLabel': 'Combination', 'DimensionLabel': 'Skin Type'}, 'IncentivizedReview': {'Value': 'False', 'Id': 'IncentivizedReview', 'ValueLabel': 'No', 'DimensionLabel': 'I received this product as a free sample'}, 'skinTone': {'Value': 'fairLight', 'Id': 'skinTone', 'ValueLabel': 'fairLight', 'DimensionLabel': 'Skin Tone'}, 'hairColor': {'Value': 'brown', 'Id': 'hairColor', 'ValueLabel': 'brown', 'DimensionLabel': 'Hair Color'}, 'eyeColor': {'Value': 'blue', 'Id': 'eyeColor', 'ValueLabel': 'Blue', 'DimensionLabel': 'Eye Color'}, 'StaffContext': None, 'age': None}                                                      |   False    |   1    |     False     |     False     |     1.0     |         1          |             0              |             1              |                                                                                                                                                                                                                                                                                               Dog poo, I looked great for the first hour then just melted off my face, ive tried multiple different applying techniques and it still looked cakey and crusty                                                                                                                                                                                                                                                                                               |       No, dont be influenced!       |                                                       {'skinType': {'Value': 'combination', 'Id': 'skinType', 'ValueLabel': 'Combination', 'DimensionLabel': 'Skin Type'}, 'IncentivizedReview': {'Value': 'False', 'Id': 'IncentivizedReview', 'ValueLabel': 'No', 'DimensionLabel': 'I received this product as a free sample'}, 'skinTone': {'Value': 'fairLight', 'Id': 'skinTone', 'ValueLabel': 'fairLight', 'DimensionLabel': 'Skin Tone'}, 'hairColor': {'Value': 'brown', 'Id': 'hairColor', 'ValueLabel': 'brown', 'DimensionLabel': 'Hair Color'}, 'eyeColor': {'Value': 'blue', 'Id': 'eyeColor', 'ValueLabel': 'Blue', 'DimensionLabel': 'Eye Color'}, 'StaffContext': None, 'age': None}                                                      |      5      |\n",
       "|                                 ['skinType', 'eyeColor']                                |                                                                                                                                                                                                                {'skinType': {'Value': 'combination', 'Id': 'skinType', 'ValueLabel': 'Combination', 'DimensionLabel': 'Skin Type'}, 'IncentivizedReview': None, 'skinTone': None, 'hairColor': None, 'eyeColor': {'Value': 'blue', 'Id': 'eyeColor', 'ValueLabel': 'Blue', 'DimensionLabel': 'Eye Color'}, 'StaffContext': None, 'age': None}                                                                                                                                                                                                               |   False    |   4    |     False     |      True     |     1.0     |         2          |             0              |             2              | I was sadly kind of underwhelmed by this. It goes on shockingly light but when it oxidizes it dries down to nearly a perfect match for my skin, but it's orange-y, which is typical for me. My undertone is very pink, and even now that many lines are carrying foundations in my shade range it's still really difficult to find something that isn't neutral/warm leaning. Since I bought this ages ago I also started using adapalene and I don't think there's any way I could use this without drying the heck out of my already-dry face. I think the formula is great if it works for your skin, and you test out the shade beforehand in-store, but if you are looking for a very light foundation with a genuinely cool undertone this isn't it. | Not for Cool Pink Undertone Girlies |                                                                                                                                                                                                                {'skinType': {'Value': 'combination', 'Id': 'skinType', 'ValueLabel': 'Combination', 'DimensionLabel': 'Skin Type'}, 'IncentivizedReview': None, 'skinTone': None, 'hairColor': None, 'eyeColor': {'Value': 'blue', 'Id': 'eyeColor', 'ValueLabel': 'Blue', 'DimensionLabel': 'Eye Color'}, 'StaffContext': None, 'age': None}                                                                                                                                                                                                               |      5      |\n",
       "|                          ['IncentivizedReview', 'StaffContext']                         |                                                                                                                                                                                          {'skinType': None, 'IncentivizedReview': {'Value': 'False', 'Id': 'IncentivizedReview', 'ValueLabel': 'No', 'DimensionLabel': 'I received this product as a free sample'}, 'skinTone': None, 'hairColor': None, 'eyeColor': None, 'StaffContext': {'Value': 'false', 'Id': 'StaffContext', 'ValueLabel': 'No', 'DimensionLabel': 'I am a Sephora employee'}, 'age': None}                                                                                                                                                                                          |   False    |   5    |     False     |      True     |     1.0     |         2          |             0              |             2              |                                                                                                                                                                                                                                                                                                                                  I love that thy have color for my skin .. I hardly get my face color . I will buy again                                                                                                                                                                                                                                                                                                                                   |                 None                |                                                                                                                                                                                          {'skinType': None, 'IncentivizedReview': {'Value': 'False', 'Id': 'IncentivizedReview', 'ValueLabel': 'No', 'DimensionLabel': 'I received this product as a free sample'}, 'skinTone': None, 'hairColor': None, 'eyeColor': None, 'StaffContext': {'Value': 'false', 'Id': 'StaffContext', 'ValueLabel': 'No', 'DimensionLabel': 'I am a Sephora employee'}, 'age': None}                                                                                                                                                                                          |      5      |\n",
       "+-----------------------------------------------------------------------------------------+-------------------------------------------------------------------------------------------------------------------------------------------------------------------------------------------------------------------------------------------------------------------------------------------------------------------------------------------------------------------------------------------------------------------------------------------------------------------------------------------------------------------------------------------------------------------------------------------------------------------------------------------------------------------------------------------------------------------------------------------------------------+------------+--------+---------------+---------------+-------------+--------------------+----------------------------+----------------------------+------------------------------------------------------------------------------------------------------------------------------------------------------------------------------------------------------------------------------------------------------------------------------------------------------------------------------------------------------------------------------------------------------------------------------------------------------------------------------------------------------------------------------------------------------------------------------------------------------------------------------------------------------------------------------------------------------------------------------------------------------------+-------------------------------------+-------------------------------------------------------------------------------------------------------------------------------------------------------------------------------------------------------------------------------------------------------------------------------------------------------------------------------------------------------------------------------------------------------------------------------------------------------------------------------------------------------------------------------------------------------------------------------------------------------------------------------------------------------------------------------------------------------------------------------------------------------------+-------------+"
      ]
     },
     "execution_count": 40,
     "metadata": {},
     "output_type": "execute_result"
    }
   ],
   "source": [
    "%%sql\n",
    "select * from reviews_clean limit 10"
   ]
  },
  {
   "cell_type": "code",
   "execution_count": 47,
   "metadata": {},
   "outputs": [
    {
     "name": "stdout",
     "output_type": "stream",
     "text": [
      "   rating hair_color eye_color\n",
      "0       5     blonde     brown\n",
      "1       4      black     brown\n",
      "2       2     blonde      blue\n",
      "3       1     auburn     hazel\n",
      "4       5      brown     brown\n"
     ]
    },
    {
     "name": "stderr",
     "output_type": "stream",
     "text": [
      "/var/folders/fx/rvx1r_9j0ds9___ln7354lwm0000gn/T/ipykernel_15237/1467544500.py:25: FutureWarning: \n",
      "\n",
      "Passing `palette` without assigning `hue` is deprecated and will be removed in v0.14.0. Assign the `x` variable to `hue` and set `legend=False` for the same effect.\n",
      "\n",
      "  sns.barplot(data=hair_avg_rating, x='hair_color', y='rating', palette='Blues_d')\n"
     ]
    },
    {
     "data": {
      "image/png": "[encoded data removed]",
      "text/plain": [
       "<Figure size 800x500 with 1 Axes>"
      ]
     },
     "metadata": {},
     "output_type": "display_data"
    },
    {
     "name": "stderr",
     "output_type": "stream",
     "text": [
      "/var/folders/fx/rvx1r_9j0ds9___ln7354lwm0000gn/T/ipykernel_15237/1467544500.py:34: FutureWarning: \n",
      "\n",
      "Passing `palette` without assigning `hue` is deprecated and will be removed in v0.14.0. Assign the `x` variable to `hue` and set `legend=False` for the same effect.\n",
      "\n",
      "  sns.barplot(data=eye_avg_rating, x='eye_color', y='rating', palette='Greens_d')\n"
     ]
    },
    {
     "data": {
      "image/png": "[encoded data removed]",
      "text/plain": [
       "<Figure size 800x500 with 1 Axes>"
      ]
     },
     "metadata": {},
     "output_type": "display_data"
    }
   ],
   "source": [
    "query = (\n",
    "    \"\"\"\n",
    "SELECT\n",
    "    rating,\n",
    "    ContextDataValues.hairColor.Value AS hair_color,\n",
    "    ContextDataValues.eyeColor.Value AS eye_color\n",
    "FROM reviews_clean\n",
    "WHERE\n",
    "    ContextDataValues.hairColor.Value IS NOT NULL\n",
    "    AND ContextDataValues.eyeColor.Value IS NOT NULL\n",
    "\"\"\"\n",
    ")\n",
    "df = conn.sql(query).df()\n",
    "\n",
    "print(df.head())\n",
    "\n",
    "# Explore average rating by hair color\n",
    "hair_avg_rating = df.groupby('hair_color')['rating'].mean().reset_index()\n",
    "\n",
    "# Explore average rating by eye color\n",
    "eye_avg_rating = df.groupby('eye_color')['rating'].mean().reset_index()\n",
    "\n",
    "# Visualization: Hair Color vs Avg. Rating\n",
    "plt.figure(figsize=(8,5))\n",
    "sns.barplot(data=hair_avg_rating, x='hair_color', y='rating', palette='Blues_d')\n",
    "plt.title('Average Product Rating by Hair Color')\n",
    "plt.xlabel('Hair Color')\n",
    "plt.ylabel('Average Rating')\n",
    "plt.ylim(0,5)\n",
    "plt.show()\n",
    "\n",
    "# Visualization: Eye Color vs Avg. Rating\n",
    "plt.figure(figsize=(8,5))\n",
    "sns.barplot(data=eye_avg_rating, x='eye_color', y='rating', palette='Greens_d')\n",
    "plt.title('Average Product Rating by Eye Color')\n",
    "plt.xlabel('Eye Color')\n",
    "plt.ylabel('Average Rating')\n",
    "plt.ylim(0,5)\n",
    "plt.show()"
   ]
  },
  {
   "cell_type": "code",
   "execution_count": null,
   "metadata": {},
   "outputs": [
    {
     "ename": "NameError",
     "evalue": "name 'conn' is not defined",
     "output_type": "error",
     "traceback": [
      "\u001b[31m---------------------------------------------------------------------------\u001b[39m",
      "\u001b[31mNameError\u001b[39m                                 Traceback (most recent call last)",
      "\u001b[36mCell\u001b[39m\u001b[36m \u001b[39m\u001b[32mIn[1]\u001b[39m\u001b[32m, line 1\u001b[39m\n\u001b[32m----> \u001b[39m\u001b[32m1\u001b[39m \u001b[43mconn\u001b[49m.close()\n",
      "\u001b[31mNameError\u001b[39m: name 'conn' is not defined"
     ]
    }
   ],
   "source": [
    "conn.close()"
   ]
  }
 ],
 "metadata": {
  "kernelspec": {
   "display_name": ".venv",
   "language": "python",
   "name": "python3"
  },
  "language_info": {
   "codemirror_mode": {
    "name": "ipython",
    "version": 3
   },
   "file_extension": ".py",
   "mimetype": "text/x-python",
   "name": "python",
   "nbconvert_exporter": "python",
   "pygments_lexer": "ipython3",
   "version": "3.13.2"
  }
 },
 "nbformat": 4,
 "nbformat_minor": 2
}
